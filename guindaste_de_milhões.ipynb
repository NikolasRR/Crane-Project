{
  "nbformat": 4,
  "nbformat_minor": 0,
  "metadata": {
    "colab": {
      "provenance": [],
      "include_colab_link": true
    },
    "kernelspec": {
      "name": "python3",
      "display_name": "Python 3"
    },
    "language_info": {
      "name": "python"
    }
  },
  "cells": [
    {
      "cell_type": "markdown",
      "metadata": {
        "id": "view-in-github",
        "colab_type": "text"
      },
      "source": [
        "<a href=\"https://colab.research.google.com/github/NikolasRR/Crane-Project/blob/main/guindaste_de_milh%C3%B5es.ipynb\" target=\"_parent\"><img src=\"https://colab.research.google.com/assets/colab-badge.svg\" alt=\"Open In Colab\"/></a>"
      ]
    },
    {
      "cell_type": "markdown",
      "source": [
        "# **Dependências**"
      ],
      "metadata": {
        "id": "z9mkAlz5QFR5"
      }
    },
    {
      "cell_type": "code",
      "execution_count": null,
      "metadata": {
        "id": "t-RwqDSaotvZ"
      },
      "outputs": [],
      "source": [
        "# dependencies\n",
        "from sympy import symbols, diff, atan, asin, acos, sin, cos, solve, sqrt, idiff, Derivative, Function, Eq, pi\n",
        "from sympy.plotting import plot\n",
        "import numpy as np\n",
        "import matplotlib.pyplot as plt\n",
        "from enum import Enum"
      ]
    },
    {
      "cell_type": "markdown",
      "source": [
        "# **Modelos**"
      ],
      "metadata": {
        "id": "80jQXM7jQJ1H"
      }
    },
    {
      "cell_type": "markdown",
      "source": [
        "## Uso geral"
      ],
      "metadata": {
        "id": "8achfJfgWfgW"
      }
    },
    {
      "cell_type": "code",
      "source": [
        "# Variáveis\n",
        "t = symbols('t')\n",
        "D1 = symbols('D_1')\n",
        "D2 = symbols('D_2')\n",
        "OB = symbols('OB')\n",
        "\n",
        "# Funções\n",
        "Xcl = Function('X_cl')(t)\n",
        "Xcb = Function('X_cb')(t)\n",
        "teta = acos(((D1**2) + (D2**2) + (OB**2) - (Xcb**2))/(sqrt(D1**2 + D2**2)*OB*2)) - atan(D2/D1)\n",
        "OC = OB + Xcl"
      ],
      "metadata": {
        "id": "-RkolTqvWlsH"
      },
      "execution_count": null,
      "outputs": []
    },
    {
      "cell_type": "markdown",
      "source": [
        "## Cinemática"
      ],
      "metadata": {
        "id": "9iNy1r6KVEc_"
      }
    },
    {
      "cell_type": "code",
      "source": [
        "# Funções\n",
        "Vcl = Function('V_cl')(t)\n",
        "Vcb = Function('V_cb')(t)\n",
        "Acl = Function('A_cl')(t)\n",
        "Acb = Function('A_cb')(t)\n",
        "\n",
        "Xc = OC*cos(teta)\n",
        "Yc = OC*sin(teta)\n",
        "\n",
        "dXc = diff(Xc, t)\n",
        "dYc = diff(Yc, t)\n",
        "\n",
        "ddXc = diff(dXc, t)\n",
        "ddYc = diff(dYc, t)"
      ],
      "metadata": {
        "id": "e711x3AIvSuv"
      },
      "execution_count": null,
      "outputs": []
    },
    {
      "cell_type": "markdown",
      "source": [
        "#### Display das equações"
      ],
      "metadata": {
        "id": "2vdalxwBWRQ2"
      }
    },
    {
      "cell_type": "markdown",
      "source": [
        "##### Xc"
      ],
      "metadata": {
        "id": "WzIFtRjfg4aN"
      }
    },
    {
      "cell_type": "code",
      "source": [
        "display(Eq(symbols('Y_c'), Yc))"
      ],
      "metadata": {
        "colab": {
          "base_uri": "https://localhost:8080/",
          "height": 68
        },
        "id": "q_Zji29qg1-Y",
        "outputId": "c2ba8e96-e9ee-4924-e1f7-cf7a1b81a4d8"
      },
      "execution_count": null,
      "outputs": [
        {
          "output_type": "display_data",
          "data": {
            "text/plain": [
              "Eq(Y_c, (OB + X_cl(t))*sin(acos((D_1**2 + D_2**2 + OB**2 - X_cb(t)**2)/(2*OB*sqrt(D_1**2 + D_2**2))) - atan(D_2/D_1)))"
            ],
            "text/latex": "$\\displaystyle Y_{c} = \\left(OB + X_{cl}{\\left(t \\right)}\\right) \\sin{\\left(\\operatorname{acos}{\\left(\\frac{D_{1}^{2} + D_{2}^{2} + OB^{2} - X_{cb}^{2}{\\left(t \\right)}}{2 OB \\sqrt{D_{1}^{2} + D_{2}^{2}}} \\right)} - \\operatorname{atan}{\\left(\\frac{D_{2}}{D_{1}} \\right)} \\right)}$"
          },
          "metadata": {}
        }
      ]
    },
    {
      "cell_type": "markdown",
      "source": [
        "##### Yc"
      ],
      "metadata": {
        "id": "eBfKYzhohQIO"
      }
    },
    {
      "cell_type": "code",
      "source": [
        "display(Eq(symbols('Y_c'), Yc))"
      ],
      "metadata": {
        "colab": {
          "base_uri": "https://localhost:8080/",
          "height": 68
        },
        "id": "A1jXbeSRhJNY",
        "outputId": "35b3de8a-f843-4f25-e5dc-e5e212f4962b"
      },
      "execution_count": null,
      "outputs": [
        {
          "output_type": "display_data",
          "data": {
            "text/plain": [
              "Eq(Y_c, (OB + X_cl(t))*sin(acos((D_1**2 + D_2**2 + OB**2 - X_cb(t)**2)/(2*OB*sqrt(D_1**2 + D_2**2))) - atan(D_2/D_1)))"
            ],
            "text/latex": "$\\displaystyle Y_{c} = \\left(OB + X_{cl}{\\left(t \\right)}\\right) \\sin{\\left(\\operatorname{acos}{\\left(\\frac{D_{1}^{2} + D_{2}^{2} + OB^{2} - X_{cb}^{2}{\\left(t \\right)}}{2 OB \\sqrt{D_{1}^{2} + D_{2}^{2}}} \\right)} - \\operatorname{atan}{\\left(\\frac{D_{2}}{D_{1}} \\right)} \\right)}$"
          },
          "metadata": {}
        }
      ]
    },
    {
      "cell_type": "markdown",
      "source": [
        "##### Vx"
      ],
      "metadata": {
        "id": "Q0GEaEUrhSig"
      }
    },
    {
      "cell_type": "code",
      "source": [
        "display(Eq(symbols('V_x'), dXc))"
      ],
      "metadata": {
        "colab": {
          "base_uri": "https://localhost:8080/",
          "height": 155
        },
        "id": "DiF2j5vyhS0E",
        "outputId": "a3c618f7-26e8-48aa-8a5a-436d78672273"
      },
      "execution_count": null,
      "outputs": [
        {
          "output_type": "display_data",
          "data": {
            "text/plain": [
              "Eq(V_x, cos(acos((D_1**2 + D_2**2 + OB**2 - X_cb(t)**2)/(2*OB*sqrt(D_1**2 + D_2**2))) - atan(D_2/D_1))*Derivative(X_cl(t), t) - (OB + X_cl(t))*X_cb(t)*sin(acos((D_1**2 + D_2**2 + OB**2 - X_cb(t)**2)/(2*OB*sqrt(D_1**2 + D_2**2))) - atan(D_2/D_1))*Derivative(X_cb(t), t)/(OB*sqrt(1 - (D_1**2 + D_2**2 + OB**2 - X_cb(t)**2)**2/(4*OB**2*(D_1**2 + D_2**2)))*sqrt(D_1**2 + D_2**2)))"
            ],
            "text/latex": "$\\displaystyle V_{x} = \\cos{\\left(\\operatorname{acos}{\\left(\\frac{D_{1}^{2} + D_{2}^{2} + OB^{2} - X_{cb}^{2}{\\left(t \\right)}}{2 OB \\sqrt{D_{1}^{2} + D_{2}^{2}}} \\right)} - \\operatorname{atan}{\\left(\\frac{D_{2}}{D_{1}} \\right)} \\right)} \\frac{d}{d t} X_{cl}{\\left(t \\right)} - \\frac{\\left(OB + X_{cl}{\\left(t \\right)}\\right) X_{cb}{\\left(t \\right)} \\sin{\\left(\\operatorname{acos}{\\left(\\frac{D_{1}^{2} + D_{2}^{2} + OB^{2} - X_{cb}^{2}{\\left(t \\right)}}{2 OB \\sqrt{D_{1}^{2} + D_{2}^{2}}} \\right)} - \\operatorname{atan}{\\left(\\frac{D_{2}}{D_{1}} \\right)} \\right)} \\frac{d}{d t} X_{cb}{\\left(t \\right)}}{OB \\sqrt{1 - \\frac{\\left(D_{1}^{2} + D_{2}^{2} + OB^{2} - X_{cb}^{2}{\\left(t \\right)}\\right)^{2}}{4 OB^{2} \\left(D_{1}^{2} + D_{2}^{2}\\right)}} \\sqrt{D_{1}^{2} + D_{2}^{2}}}$"
          },
          "metadata": {}
        }
      ]
    },
    {
      "cell_type": "markdown",
      "source": [
        "##### Vy"
      ],
      "metadata": {
        "id": "U1Z7X2X_hTNJ"
      }
    },
    {
      "cell_type": "code",
      "source": [
        "display(Eq(symbols('V_y'), dYc))"
      ],
      "metadata": {
        "colab": {
          "base_uri": "https://localhost:8080/",
          "height": 155
        },
        "id": "91xGgf_IhTWH",
        "outputId": "f02f1204-eb24-478f-98c9-9a993d7099c4"
      },
      "execution_count": null,
      "outputs": [
        {
          "output_type": "display_data",
          "data": {
            "text/plain": [
              "Eq(V_y, sin(acos((D_1**2 + D_2**2 + OB**2 - X_cb(t)**2)/(2*OB*sqrt(D_1**2 + D_2**2))) - atan(D_2/D_1))*Derivative(X_cl(t), t) + (OB + X_cl(t))*X_cb(t)*cos(acos((D_1**2 + D_2**2 + OB**2 - X_cb(t)**2)/(2*OB*sqrt(D_1**2 + D_2**2))) - atan(D_2/D_1))*Derivative(X_cb(t), t)/(OB*sqrt(1 - (D_1**2 + D_2**2 + OB**2 - X_cb(t)**2)**2/(4*OB**2*(D_1**2 + D_2**2)))*sqrt(D_1**2 + D_2**2)))"
            ],
            "text/latex": "$\\displaystyle V_{y} = \\sin{\\left(\\operatorname{acos}{\\left(\\frac{D_{1}^{2} + D_{2}^{2} + OB^{2} - X_{cb}^{2}{\\left(t \\right)}}{2 OB \\sqrt{D_{1}^{2} + D_{2}^{2}}} \\right)} - \\operatorname{atan}{\\left(\\frac{D_{2}}{D_{1}} \\right)} \\right)} \\frac{d}{d t} X_{cl}{\\left(t \\right)} + \\frac{\\left(OB + X_{cl}{\\left(t \\right)}\\right) X_{cb}{\\left(t \\right)} \\cos{\\left(\\operatorname{acos}{\\left(\\frac{D_{1}^{2} + D_{2}^{2} + OB^{2} - X_{cb}^{2}{\\left(t \\right)}}{2 OB \\sqrt{D_{1}^{2} + D_{2}^{2}}} \\right)} - \\operatorname{atan}{\\left(\\frac{D_{2}}{D_{1}} \\right)} \\right)} \\frac{d}{d t} X_{cb}{\\left(t \\right)}}{OB \\sqrt{1 - \\frac{\\left(D_{1}^{2} + D_{2}^{2} + OB^{2} - X_{cb}^{2}{\\left(t \\right)}\\right)^{2}}{4 OB^{2} \\left(D_{1}^{2} + D_{2}^{2}\\right)}} \\sqrt{D_{1}^{2} + D_{2}^{2}}}$"
          },
          "metadata": {}
        }
      ]
    },
    {
      "cell_type": "markdown",
      "source": [
        "##### Ax"
      ],
      "metadata": {
        "id": "qhMaUkZ-hTxW"
      }
    },
    {
      "cell_type": "code",
      "source": [
        "display(Eq(symbols('A_x'), ddXc))"
      ],
      "metadata": {
        "colab": {
          "base_uri": "https://localhost:8080/",
          "height": 506
        },
        "id": "UvI05VIAhT4J",
        "outputId": "d827ed49-450a-486c-ceb1-6e720d4e040f"
      },
      "execution_count": null,
      "outputs": [
        {
          "output_type": "display_data",
          "data": {
            "text/plain": [
              "Eq(A_x, cos(acos((D_1**2 + D_2**2 + OB**2 - X_cb(t)**2)/(2*OB*sqrt(D_1**2 + D_2**2))) - atan(D_2/D_1))*Derivative(X_cl(t), (t, 2)) - (OB + X_cl(t))*X_cb(t)*sin(acos((D_1**2 + D_2**2 + OB**2 - X_cb(t)**2)/(2*OB*sqrt(D_1**2 + D_2**2))) - atan(D_2/D_1))*Derivative(X_cb(t), (t, 2))/(OB*sqrt(1 - (D_1**2 + D_2**2 + OB**2 - X_cb(t)**2)**2/(4*OB**2*(D_1**2 + D_2**2)))*sqrt(D_1**2 + D_2**2)) - (OB + X_cl(t))*sin(acos((D_1**2 + D_2**2 + OB**2 - X_cb(t)**2)/(2*OB*sqrt(D_1**2 + D_2**2))) - atan(D_2/D_1))*Derivative(X_cb(t), t)**2/(OB*sqrt(1 - (D_1**2 + D_2**2 + OB**2 - X_cb(t)**2)**2/(4*OB**2*(D_1**2 + D_2**2)))*sqrt(D_1**2 + D_2**2)) - 2*X_cb(t)*sin(acos((D_1**2 + D_2**2 + OB**2 - X_cb(t)**2)/(2*OB*sqrt(D_1**2 + D_2**2))) - atan(D_2/D_1))*Derivative(X_cb(t), t)*Derivative(X_cl(t), t)/(OB*sqrt(1 - (D_1**2 + D_2**2 + OB**2 - X_cb(t)**2)**2/(4*OB**2*(D_1**2 + D_2**2)))*sqrt(D_1**2 + D_2**2)) - (OB + X_cl(t))*X_cb(t)**2*cos(acos((D_1**2 + D_2**2 + OB**2 - X_cb(t)**2)/(2*OB*sqrt(D_1**2 + D_2**2))) - atan(D_2/D_1))*Derivative(X_cb(t), t)**2/(OB**2*(1 - (D_1**2 + D_2**2 + OB**2 - X_cb(t)**2)**2/(4*OB**2*(D_1**2 + D_2**2)))*(D_1**2 + D_2**2)) + (OB + X_cl(t))*(D_1**2 + D_2**2 + OB**2 - X_cb(t)**2)*X_cb(t)**2*sin(acos((D_1**2 + D_2**2 + OB**2 - X_cb(t)**2)/(2*OB*sqrt(D_1**2 + D_2**2))) - atan(D_2/D_1))*Derivative(X_cb(t), t)**2/(2*OB**3*(1 - (D_1**2 + D_2**2 + OB**2 - X_cb(t)**2)**2/(4*OB**2*(D_1**2 + D_2**2)))**(3/2)*(D_1**2 + D_2**2)**(3/2)))"
            ],
            "text/latex": "$\\displaystyle A_{x} = \\cos{\\left(\\operatorname{acos}{\\left(\\frac{D_{1}^{2} + D_{2}^{2} + OB^{2} - X_{cb}^{2}{\\left(t \\right)}}{2 OB \\sqrt{D_{1}^{2} + D_{2}^{2}}} \\right)} - \\operatorname{atan}{\\left(\\frac{D_{2}}{D_{1}} \\right)} \\right)} \\frac{d^{2}}{d t^{2}} X_{cl}{\\left(t \\right)} - \\frac{\\left(OB + X_{cl}{\\left(t \\right)}\\right) X_{cb}{\\left(t \\right)} \\sin{\\left(\\operatorname{acos}{\\left(\\frac{D_{1}^{2} + D_{2}^{2} + OB^{2} - X_{cb}^{2}{\\left(t \\right)}}{2 OB \\sqrt{D_{1}^{2} + D_{2}^{2}}} \\right)} - \\operatorname{atan}{\\left(\\frac{D_{2}}{D_{1}} \\right)} \\right)} \\frac{d^{2}}{d t^{2}} X_{cb}{\\left(t \\right)}}{OB \\sqrt{1 - \\frac{\\left(D_{1}^{2} + D_{2}^{2} + OB^{2} - X_{cb}^{2}{\\left(t \\right)}\\right)^{2}}{4 OB^{2} \\left(D_{1}^{2} + D_{2}^{2}\\right)}} \\sqrt{D_{1}^{2} + D_{2}^{2}}} - \\frac{\\left(OB + X_{cl}{\\left(t \\right)}\\right) \\sin{\\left(\\operatorname{acos}{\\left(\\frac{D_{1}^{2} + D_{2}^{2} + OB^{2} - X_{cb}^{2}{\\left(t \\right)}}{2 OB \\sqrt{D_{1}^{2} + D_{2}^{2}}} \\right)} - \\operatorname{atan}{\\left(\\frac{D_{2}}{D_{1}} \\right)} \\right)} \\left(\\frac{d}{d t} X_{cb}{\\left(t \\right)}\\right)^{2}}{OB \\sqrt{1 - \\frac{\\left(D_{1}^{2} + D_{2}^{2} + OB^{2} - X_{cb}^{2}{\\left(t \\right)}\\right)^{2}}{4 OB^{2} \\left(D_{1}^{2} + D_{2}^{2}\\right)}} \\sqrt{D_{1}^{2} + D_{2}^{2}}} - \\frac{2 X_{cb}{\\left(t \\right)} \\sin{\\left(\\operatorname{acos}{\\left(\\frac{D_{1}^{2} + D_{2}^{2} + OB^{2} - X_{cb}^{2}{\\left(t \\right)}}{2 OB \\sqrt{D_{1}^{2} + D_{2}^{2}}} \\right)} - \\operatorname{atan}{\\left(\\frac{D_{2}}{D_{1}} \\right)} \\right)} \\frac{d}{d t} X_{cb}{\\left(t \\right)} \\frac{d}{d t} X_{cl}{\\left(t \\right)}}{OB \\sqrt{1 - \\frac{\\left(D_{1}^{2} + D_{2}^{2} + OB^{2} - X_{cb}^{2}{\\left(t \\right)}\\right)^{2}}{4 OB^{2} \\left(D_{1}^{2} + D_{2}^{2}\\right)}} \\sqrt{D_{1}^{2} + D_{2}^{2}}} - \\frac{\\left(OB + X_{cl}{\\left(t \\right)}\\right) X_{cb}^{2}{\\left(t \\right)} \\cos{\\left(\\operatorname{acos}{\\left(\\frac{D_{1}^{2} + D_{2}^{2} + OB^{2} - X_{cb}^{2}{\\left(t \\right)}}{2 OB \\sqrt{D_{1}^{2} + D_{2}^{2}}} \\right)} - \\operatorname{atan}{\\left(\\frac{D_{2}}{D_{1}} \\right)} \\right)} \\left(\\frac{d}{d t} X_{cb}{\\left(t \\right)}\\right)^{2}}{OB^{2} \\cdot \\left(1 - \\frac{\\left(D_{1}^{2} + D_{2}^{2} + OB^{2} - X_{cb}^{2}{\\left(t \\right)}\\right)^{2}}{4 OB^{2} \\left(D_{1}^{2} + D_{2}^{2}\\right)}\\right) \\left(D_{1}^{2} + D_{2}^{2}\\right)} + \\frac{\\left(OB + X_{cl}{\\left(t \\right)}\\right) \\left(D_{1}^{2} + D_{2}^{2} + OB^{2} - X_{cb}^{2}{\\left(t \\right)}\\right) X_{cb}^{2}{\\left(t \\right)} \\sin{\\left(\\operatorname{acos}{\\left(\\frac{D_{1}^{2} + D_{2}^{2} + OB^{2} - X_{cb}^{2}{\\left(t \\right)}}{2 OB \\sqrt{D_{1}^{2} + D_{2}^{2}}} \\right)} - \\operatorname{atan}{\\left(\\frac{D_{2}}{D_{1}} \\right)} \\right)} \\left(\\frac{d}{d t} X_{cb}{\\left(t \\right)}\\right)^{2}}{2 OB^{3} \\left(1 - \\frac{\\left(D_{1}^{2} + D_{2}^{2} + OB^{2} - X_{cb}^{2}{\\left(t \\right)}\\right)^{2}}{4 OB^{2} \\left(D_{1}^{2} + D_{2}^{2}\\right)}\\right)^{\\frac{3}{2}} \\left(D_{1}^{2} + D_{2}^{2}\\right)^{\\frac{3}{2}}}$"
          },
          "metadata": {}
        }
      ]
    },
    {
      "cell_type": "markdown",
      "source": [
        "##### Ay"
      ],
      "metadata": {
        "id": "BsUfiHd9heuK"
      }
    },
    {
      "cell_type": "code",
      "source": [
        "display(Eq(symbols('A_y'), ddYc))"
      ],
      "metadata": {
        "colab": {
          "base_uri": "https://localhost:8080/",
          "height": 506
        },
        "id": "-3TacPCehe10",
        "outputId": "c4f292af-46b7-471a-d5b7-40719861ea70"
      },
      "execution_count": null,
      "outputs": [
        {
          "output_type": "display_data",
          "data": {
            "text/plain": [
              "Eq(A_y, sin(acos((D_1**2 + D_2**2 + OB**2 - X_cb(t)**2)/(2*OB*sqrt(D_1**2 + D_2**2))) - atan(D_2/D_1))*Derivative(X_cl(t), (t, 2)) + (OB + X_cl(t))*X_cb(t)*cos(acos((D_1**2 + D_2**2 + OB**2 - X_cb(t)**2)/(2*OB*sqrt(D_1**2 + D_2**2))) - atan(D_2/D_1))*Derivative(X_cb(t), (t, 2))/(OB*sqrt(1 - (D_1**2 + D_2**2 + OB**2 - X_cb(t)**2)**2/(4*OB**2*(D_1**2 + D_2**2)))*sqrt(D_1**2 + D_2**2)) + (OB + X_cl(t))*cos(acos((D_1**2 + D_2**2 + OB**2 - X_cb(t)**2)/(2*OB*sqrt(D_1**2 + D_2**2))) - atan(D_2/D_1))*Derivative(X_cb(t), t)**2/(OB*sqrt(1 - (D_1**2 + D_2**2 + OB**2 - X_cb(t)**2)**2/(4*OB**2*(D_1**2 + D_2**2)))*sqrt(D_1**2 + D_2**2)) + 2*X_cb(t)*cos(acos((D_1**2 + D_2**2 + OB**2 - X_cb(t)**2)/(2*OB*sqrt(D_1**2 + D_2**2))) - atan(D_2/D_1))*Derivative(X_cb(t), t)*Derivative(X_cl(t), t)/(OB*sqrt(1 - (D_1**2 + D_2**2 + OB**2 - X_cb(t)**2)**2/(4*OB**2*(D_1**2 + D_2**2)))*sqrt(D_1**2 + D_2**2)) - (OB + X_cl(t))*X_cb(t)**2*sin(acos((D_1**2 + D_2**2 + OB**2 - X_cb(t)**2)/(2*OB*sqrt(D_1**2 + D_2**2))) - atan(D_2/D_1))*Derivative(X_cb(t), t)**2/(OB**2*(1 - (D_1**2 + D_2**2 + OB**2 - X_cb(t)**2)**2/(4*OB**2*(D_1**2 + D_2**2)))*(D_1**2 + D_2**2)) - (OB + X_cl(t))*(D_1**2 + D_2**2 + OB**2 - X_cb(t)**2)*X_cb(t)**2*cos(acos((D_1**2 + D_2**2 + OB**2 - X_cb(t)**2)/(2*OB*sqrt(D_1**2 + D_2**2))) - atan(D_2/D_1))*Derivative(X_cb(t), t)**2/(2*OB**3*(1 - (D_1**2 + D_2**2 + OB**2 - X_cb(t)**2)**2/(4*OB**2*(D_1**2 + D_2**2)))**(3/2)*(D_1**2 + D_2**2)**(3/2)))"
            ],
            "text/latex": "$\\displaystyle A_{y} = \\sin{\\left(\\operatorname{acos}{\\left(\\frac{D_{1}^{2} + D_{2}^{2} + OB^{2} - X_{cb}^{2}{\\left(t \\right)}}{2 OB \\sqrt{D_{1}^{2} + D_{2}^{2}}} \\right)} - \\operatorname{atan}{\\left(\\frac{D_{2}}{D_{1}} \\right)} \\right)} \\frac{d^{2}}{d t^{2}} X_{cl}{\\left(t \\right)} + \\frac{\\left(OB + X_{cl}{\\left(t \\right)}\\right) X_{cb}{\\left(t \\right)} \\cos{\\left(\\operatorname{acos}{\\left(\\frac{D_{1}^{2} + D_{2}^{2} + OB^{2} - X_{cb}^{2}{\\left(t \\right)}}{2 OB \\sqrt{D_{1}^{2} + D_{2}^{2}}} \\right)} - \\operatorname{atan}{\\left(\\frac{D_{2}}{D_{1}} \\right)} \\right)} \\frac{d^{2}}{d t^{2}} X_{cb}{\\left(t \\right)}}{OB \\sqrt{1 - \\frac{\\left(D_{1}^{2} + D_{2}^{2} + OB^{2} - X_{cb}^{2}{\\left(t \\right)}\\right)^{2}}{4 OB^{2} \\left(D_{1}^{2} + D_{2}^{2}\\right)}} \\sqrt{D_{1}^{2} + D_{2}^{2}}} + \\frac{\\left(OB + X_{cl}{\\left(t \\right)}\\right) \\cos{\\left(\\operatorname{acos}{\\left(\\frac{D_{1}^{2} + D_{2}^{2} + OB^{2} - X_{cb}^{2}{\\left(t \\right)}}{2 OB \\sqrt{D_{1}^{2} + D_{2}^{2}}} \\right)} - \\operatorname{atan}{\\left(\\frac{D_{2}}{D_{1}} \\right)} \\right)} \\left(\\frac{d}{d t} X_{cb}{\\left(t \\right)}\\right)^{2}}{OB \\sqrt{1 - \\frac{\\left(D_{1}^{2} + D_{2}^{2} + OB^{2} - X_{cb}^{2}{\\left(t \\right)}\\right)^{2}}{4 OB^{2} \\left(D_{1}^{2} + D_{2}^{2}\\right)}} \\sqrt{D_{1}^{2} + D_{2}^{2}}} + \\frac{2 X_{cb}{\\left(t \\right)} \\cos{\\left(\\operatorname{acos}{\\left(\\frac{D_{1}^{2} + D_{2}^{2} + OB^{2} - X_{cb}^{2}{\\left(t \\right)}}{2 OB \\sqrt{D_{1}^{2} + D_{2}^{2}}} \\right)} - \\operatorname{atan}{\\left(\\frac{D_{2}}{D_{1}} \\right)} \\right)} \\frac{d}{d t} X_{cb}{\\left(t \\right)} \\frac{d}{d t} X_{cl}{\\left(t \\right)}}{OB \\sqrt{1 - \\frac{\\left(D_{1}^{2} + D_{2}^{2} + OB^{2} - X_{cb}^{2}{\\left(t \\right)}\\right)^{2}}{4 OB^{2} \\left(D_{1}^{2} + D_{2}^{2}\\right)}} \\sqrt{D_{1}^{2} + D_{2}^{2}}} - \\frac{\\left(OB + X_{cl}{\\left(t \\right)}\\right) X_{cb}^{2}{\\left(t \\right)} \\sin{\\left(\\operatorname{acos}{\\left(\\frac{D_{1}^{2} + D_{2}^{2} + OB^{2} - X_{cb}^{2}{\\left(t \\right)}}{2 OB \\sqrt{D_{1}^{2} + D_{2}^{2}}} \\right)} - \\operatorname{atan}{\\left(\\frac{D_{2}}{D_{1}} \\right)} \\right)} \\left(\\frac{d}{d t} X_{cb}{\\left(t \\right)}\\right)^{2}}{OB^{2} \\cdot \\left(1 - \\frac{\\left(D_{1}^{2} + D_{2}^{2} + OB^{2} - X_{cb}^{2}{\\left(t \\right)}\\right)^{2}}{4 OB^{2} \\left(D_{1}^{2} + D_{2}^{2}\\right)}\\right) \\left(D_{1}^{2} + D_{2}^{2}\\right)} - \\frac{\\left(OB + X_{cl}{\\left(t \\right)}\\right) \\left(D_{1}^{2} + D_{2}^{2} + OB^{2} - X_{cb}^{2}{\\left(t \\right)}\\right) X_{cb}^{2}{\\left(t \\right)} \\cos{\\left(\\operatorname{acos}{\\left(\\frac{D_{1}^{2} + D_{2}^{2} + OB^{2} - X_{cb}^{2}{\\left(t \\right)}}{2 OB \\sqrt{D_{1}^{2} + D_{2}^{2}}} \\right)} - \\operatorname{atan}{\\left(\\frac{D_{2}}{D_{1}} \\right)} \\right)} \\left(\\frac{d}{d t} X_{cb}{\\left(t \\right)}\\right)^{2}}{2 OB^{3} \\left(1 - \\frac{\\left(D_{1}^{2} + D_{2}^{2} + OB^{2} - X_{cb}^{2}{\\left(t \\right)}\\right)^{2}}{4 OB^{2} \\left(D_{1}^{2} + D_{2}^{2}\\right)}\\right)^{\\frac{3}{2}} \\left(D_{1}^{2} + D_{2}^{2}\\right)^{\\frac{3}{2}}}$"
          },
          "metadata": {}
        }
      ]
    },
    {
      "cell_type": "markdown",
      "source": [
        "## Centro de gravidade e inércia"
      ],
      "metadata": {
        "id": "47DkShdwVR0F"
      }
    },
    {
      "cell_type": "code",
      "source": [
        "# Massa Específica\n",
        "massa_especifica = symbols('d')\n",
        "\n",
        "# Gravidade\n",
        "g = symbols('g')\n",
        "\n",
        "# Parâmetros das seções\n",
        "l_1 = symbols('l_1')\n",
        "r_1 = symbols('r_1')\n",
        "e_1 = symbols('e_1')\n",
        "h_1 = symbols('h_1')\n",
        "\n",
        "l_2 = symbols('l_2')\n",
        "r_2 = symbols('r_2')\n",
        "e_2 = symbols('e_2')\n",
        "h_2 = symbols('h_2')\n",
        "\n",
        "l_3 = symbols('l_3')\n",
        "r_3 = symbols('r_3')\n",
        "e_3 = symbols('e_3')\n",
        "h_3 = symbols('h_3')\n",
        "\n",
        "# Áreas das Seções\n",
        "A1 = (2+pi)*r_1*e_1 + ((pi/2)-2)*(e_1**2) + 2*e_1*h_1\n",
        "A2 = (2+pi)*r_2*e_2 + ((pi/2)-2)*(e_2**2) + 2*e_2*h_2\n",
        "A3 = (2+pi)*r_3*e_3 + ((pi/2)-2)*(e_3**2) + 2*e_3*h_3\n",
        "\n",
        "# Volumes das Seções\n",
        "V1 = A1*OC\n",
        "V2 = A2*OC\n",
        "V3 = A3*OC\n",
        "\n",
        "# Massas das Seções\n",
        "M1 = massa_especifica*V1\n",
        "M2 = massa_especifica*V2\n",
        "M3 = massa_especifica*V3\n",
        "\n",
        "# Massa Total:\n",
        "Mt = M1 + M2 + M3\n",
        "\n",
        "# Peso das Seções\n",
        "# g = 9.81\n",
        "P1 = M1*g\n",
        "P2 = M2*g\n",
        "P3 = M3*g\n",
        "\n",
        "class EstadoDasLancas(Enum):\n",
        "  DUAS_RETRAIDAS = 1\n",
        "  UMA_ESTENDENDO = 2\n",
        "  DUAS_ESTENDENDO = 3\n",
        "\n",
        "def positionOfCG(estado = None):\n",
        "  match estado:\n",
        "    case EstadoDasLancas.DUAS_RETRAIDAS:\n",
        "      duas_lancas_retraidas = True\n",
        "    case EstadoDasLancas.UMA_ESTENDENDO:\n",
        "      duas_lancas_retraidas = False\n",
        "      uma_lanca_estendendo = True\n",
        "    case EstadoDasLancas.DUAS_ESTENDENDO:\n",
        "      duas_lancas_retraidas = False\n",
        "      uma_lanca_estendendo = False\n",
        "      duas_lancas_estentendo = True\n",
        "    case __:\n",
        "      duas_lancas_retraidas = Xcl == OC\n",
        "      uma_lanca_estendendo = OC < Xcl <= 2*OC\n",
        "      duas_lancas_estentendo = 2*OC < Xcl <= 3*OC\n",
        "\n",
        "  if duas_lancas_retraidas:\n",
        "    X_cg1 = X_cg2 = X_cg3 = (OC*cos(teta))/2\n",
        "    Y_cg1 = Y_cg2 = Y_cg3 = (OC*sin(teta))/2\n",
        "\n",
        "  elif uma_lanca_estendendo:\n",
        "    X_cg1 = OC*cos(teta) + ((Xcl - OC)*cos(teta))/2\n",
        "    Y_cg1 = OC*sin(teta) + ((Xcl - OC)*sin(teta))/2\n",
        "\n",
        "    X_cg2 = X_cg3 = (OC*cos(teta))/2\n",
        "    Y_cg2 = Y_cg3 = (OC*sin(teta))/2\n",
        "\n",
        "  elif duas_lancas_estentendo:\n",
        "    X_cg1 = OC*cos(teta) + 3*((Xcl - OC)*cos(teta))/4\n",
        "    Y_cg1 = OC*sin(teta) + 3*((Xcl - OC)*sin(teta))/4\n",
        "\n",
        "    X_cg2 = OC*cos(teta) + ((Xcl - OC)*cos(teta))/4\n",
        "    Y_cg2 = OC*sin(teta) + ((Xcl - OC)*sin(teta))/4\n",
        "\n",
        "    X_cg3 = (OC*cos(teta))/2\n",
        "    Y_cg3 = (OC*sin(teta))/2\n",
        "\n",
        "  #Cálculo das Coordenadas do CG\n",
        "  X_cg = (P1*X_cg1 + P2*X_cg2 + P3*X_cg3)/(P1 + P2 + P3)\n",
        "  Y_cg = (P1*Y_cg1 + P2*Y_cg2 + P3*Y_cg3)/(P1 + P2 + P3)\n",
        "\n",
        "  return X_cg, Y_cg\n",
        "\n",
        "def massInertia(CG_x, CG_y):\n",
        "  distancia_cg = sqrt(CG_x**2 + CG_y**2)\n",
        "  Ig = massa_especifica*(OC**3)*(A1+A2+A3)\n",
        "  eixos_paralelos = massa_especifica*OC*(A1+A2+A3)*(distancia_cg**2)\n",
        "\n",
        "  return Ig + eixos_paralelos"
      ],
      "metadata": {
        "id": "vvzRVvXpVlCj"
      },
      "execution_count": null,
      "outputs": []
    },
    {
      "cell_type": "markdown",
      "source": [
        "### Display de equações"
      ],
      "metadata": {
        "id": "6XOruYH_iTP7"
      }
    },
    {
      "cell_type": "markdown",
      "source": [
        "#### CG"
      ],
      "metadata": {
        "id": "n772R1xYkGcq"
      }
    },
    {
      "cell_type": "markdown",
      "source": [
        "##### Duas lanças retraídas"
      ],
      "metadata": {
        "id": "4E5517WFkLt7"
      }
    },
    {
      "cell_type": "code",
      "source": [
        "CG_x, CG_y = positionOfCG(EstadoDasLancas.DUAS_RETRAIDAS)"
      ],
      "metadata": {
        "id": "hrMDWpgAijbZ"
      },
      "execution_count": null,
      "outputs": []
    },
    {
      "cell_type": "markdown",
      "source": [
        "###### CGx"
      ],
      "metadata": {
        "id": "UCJyc_rJiWSr"
      }
    },
    {
      "cell_type": "code",
      "source": [
        "display(CG_x)"
      ],
      "metadata": {
        "colab": {
          "base_uri": "https://localhost:8080/",
          "height": 94
        },
        "id": "4gYun7gfcdJg",
        "outputId": "e38b22ed-eb35-4f2e-d3b8-7de49cfc4715"
      },
      "execution_count": null,
      "outputs": [
        {
          "output_type": "display_data",
          "data": {
            "text/plain": [
              "(d*g*(OB + X_cl(t))**2*(e_1**2*(-2 + pi/2) + 2*e_1*h_1 + e_1*r_1*(2 + pi))*cos(acos((D_1**2 + D_2**2 + OB**2 - X_cb(t)**2)/(2*OB*sqrt(D_1**2 + D_2**2))) - atan(D_2/D_1))/2 + d*g*(OB + X_cl(t))**2*(e_2**2*(-2 + pi/2) + 2*e_2*h_2 + e_2*r_2*(2 + pi))*cos(acos((D_1**2 + D_2**2 + OB**2 - X_cb(t)**2)/(2*OB*sqrt(D_1**2 + D_2**2))) - atan(D_2/D_1))/2 + d*g*(OB + X_cl(t))**2*(e_3**2*(-2 + pi/2) + 2*e_3*h_3 + e_3*r_3*(2 + pi))*cos(acos((D_1**2 + D_2**2 + OB**2 - X_cb(t)**2)/(2*OB*sqrt(D_1**2 + D_2**2))) - atan(D_2/D_1))/2)/(d*g*(OB + X_cl(t))*(e_1**2*(-2 + pi/2) + 2*e_1*h_1 + e_1*r_1*(2 + pi)) + d*g*(OB + X_cl(t))*(e_2**2*(-2 + pi/2) + 2*e_2*h_2 + e_2*r_2*(2 + pi)) + d*g*(OB + X_cl(t))*(e_3**2*(-2 + pi/2) + 2*e_3*h_3 + e_3*r_3*(2 + pi)))"
            ],
            "text/latex": "$\\displaystyle \\frac{\\frac{d g \\left(OB + X_{cl}{\\left(t \\right)}\\right)^{2} \\left(e_{1}^{2} \\left(-2 + \\frac{\\pi}{2}\\right) + 2 e_{1} h_{1} + e_{1} r_{1} \\cdot \\left(2 + \\pi\\right)\\right) \\cos{\\left(\\operatorname{acos}{\\left(\\frac{D_{1}^{2} + D_{2}^{2} + OB^{2} - X_{cb}^{2}{\\left(t \\right)}}{2 OB \\sqrt{D_{1}^{2} + D_{2}^{2}}} \\right)} - \\operatorname{atan}{\\left(\\frac{D_{2}}{D_{1}} \\right)} \\right)}}{2} + \\frac{d g \\left(OB + X_{cl}{\\left(t \\right)}\\right)^{2} \\left(e_{2}^{2} \\left(-2 + \\frac{\\pi}{2}\\right) + 2 e_{2} h_{2} + e_{2} r_{2} \\cdot \\left(2 + \\pi\\right)\\right) \\cos{\\left(\\operatorname{acos}{\\left(\\frac{D_{1}^{2} + D_{2}^{2} + OB^{2} - X_{cb}^{2}{\\left(t \\right)}}{2 OB \\sqrt{D_{1}^{2} + D_{2}^{2}}} \\right)} - \\operatorname{atan}{\\left(\\frac{D_{2}}{D_{1}} \\right)} \\right)}}{2} + \\frac{d g \\left(OB + X_{cl}{\\left(t \\right)}\\right)^{2} \\left(e_{3}^{2} \\left(-2 + \\frac{\\pi}{2}\\right) + 2 e_{3} h_{3} + e_{3} r_{3} \\cdot \\left(2 + \\pi\\right)\\right) \\cos{\\left(\\operatorname{acos}{\\left(\\frac{D_{1}^{2} + D_{2}^{2} + OB^{2} - X_{cb}^{2}{\\left(t \\right)}}{2 OB \\sqrt{D_{1}^{2} + D_{2}^{2}}} \\right)} - \\operatorname{atan}{\\left(\\frac{D_{2}}{D_{1}} \\right)} \\right)}}{2}}{d g \\left(OB + X_{cl}{\\left(t \\right)}\\right) \\left(e_{1}^{2} \\left(-2 + \\frac{\\pi}{2}\\right) + 2 e_{1} h_{1} + e_{1} r_{1} \\cdot \\left(2 + \\pi\\right)\\right) + d g \\left(OB + X_{cl}{\\left(t \\right)}\\right) \\left(e_{2}^{2} \\left(-2 + \\frac{\\pi}{2}\\right) + 2 e_{2} h_{2} + e_{2} r_{2} \\cdot \\left(2 + \\pi\\right)\\right) + d g \\left(OB + X_{cl}{\\left(t \\right)}\\right) \\left(e_{3}^{2} \\left(-2 + \\frac{\\pi}{2}\\right) + 2 e_{3} h_{3} + e_{3} r_{3} \\cdot \\left(2 + \\pi\\right)\\right)}$"
          },
          "metadata": {}
        }
      ]
    },
    {
      "cell_type": "markdown",
      "source": [
        "###### CGy"
      ],
      "metadata": {
        "id": "KZHsJV9eidyB"
      }
    },
    {
      "cell_type": "code",
      "source": [
        "display(CG_y)"
      ],
      "metadata": {
        "colab": {
          "base_uri": "https://localhost:8080/",
          "height": 144
        },
        "outputId": "46be4fe6-9f35-4f5b-9980-1ea3ce7f0062",
        "id": "Twl53hRjidyK"
      },
      "execution_count": null,
      "outputs": [
        {
          "output_type": "display_data",
          "data": {
            "text/plain": [
              "(d*g*(OB + X_cl(t))**2*(e_3**2*(-2 + pi/2) + 2*e_3*h_3 + e_3*r_3*(2 + pi))*sin(acos((D_1**2 + D_2**2 + OB**2 - X_cb(t)**2)/(2*OB*sqrt(D_1**2 + D_2**2))) - atan(D_2/D_1))/2 + d*g*(OB + X_cl(t))*(-3*OB*sin(acos((D_1**2 + D_2**2 + OB**2 - X_cb(t)**2)/(2*OB*sqrt(D_1**2 + D_2**2))) - atan(D_2/D_1))/4 + (OB + X_cl(t))*sin(acos((D_1**2 + D_2**2 + OB**2 - X_cb(t)**2)/(2*OB*sqrt(D_1**2 + D_2**2))) - atan(D_2/D_1)))*(e_1**2*(-2 + pi/2) + 2*e_1*h_1 + e_1*r_1*(2 + pi)) + d*g*(OB + X_cl(t))*(-OB*sin(acos((D_1**2 + D_2**2 + OB**2 - X_cb(t)**2)/(2*OB*sqrt(D_1**2 + D_2**2))) - atan(D_2/D_1))/4 + (OB + X_cl(t))*sin(acos((D_1**2 + D_2**2 + OB**2 - X_cb(t)**2)/(2*OB*sqrt(D_1**2 + D_2**2))) - atan(D_2/D_1)))*(e_2**2*(-2 + pi/2) + 2*e_2*h_2 + e_2*r_2*(2 + pi)))/(d*g*(OB + X_cl(t))*(e_1**2*(-2 + pi/2) + 2*e_1*h_1 + e_1*r_1*(2 + pi)) + d*g*(OB + X_cl(t))*(e_2**2*(-2 + pi/2) + 2*e_2*h_2 + e_2*r_2*(2 + pi)) + d*g*(OB + X_cl(t))*(e_3**2*(-2 + pi/2) + 2*e_3*h_3 + e_3*r_3*(2 + pi)))"
            ],
            "text/latex": "$\\displaystyle \\frac{\\frac{d g \\left(OB + X_{cl}{\\left(t \\right)}\\right)^{2} \\left(e_{3}^{2} \\left(-2 + \\frac{\\pi}{2}\\right) + 2 e_{3} h_{3} + e_{3} r_{3} \\cdot \\left(2 + \\pi\\right)\\right) \\sin{\\left(\\operatorname{acos}{\\left(\\frac{D_{1}^{2} + D_{2}^{2} + OB^{2} - X_{cb}^{2}{\\left(t \\right)}}{2 OB \\sqrt{D_{1}^{2} + D_{2}^{2}}} \\right)} - \\operatorname{atan}{\\left(\\frac{D_{2}}{D_{1}} \\right)} \\right)}}{2} + d g \\left(OB + X_{cl}{\\left(t \\right)}\\right) \\left(- \\frac{3 OB \\sin{\\left(\\operatorname{acos}{\\left(\\frac{D_{1}^{2} + D_{2}^{2} + OB^{2} - X_{cb}^{2}{\\left(t \\right)}}{2 OB \\sqrt{D_{1}^{2} + D_{2}^{2}}} \\right)} - \\operatorname{atan}{\\left(\\frac{D_{2}}{D_{1}} \\right)} \\right)}}{4} + \\left(OB + X_{cl}{\\left(t \\right)}\\right) \\sin{\\left(\\operatorname{acos}{\\left(\\frac{D_{1}^{2} + D_{2}^{2} + OB^{2} - X_{cb}^{2}{\\left(t \\right)}}{2 OB \\sqrt{D_{1}^{2} + D_{2}^{2}}} \\right)} - \\operatorname{atan}{\\left(\\frac{D_{2}}{D_{1}} \\right)} \\right)}\\right) \\left(e_{1}^{2} \\left(-2 + \\frac{\\pi}{2}\\right) + 2 e_{1} h_{1} + e_{1} r_{1} \\cdot \\left(2 + \\pi\\right)\\right) + d g \\left(OB + X_{cl}{\\left(t \\right)}\\right) \\left(- \\frac{OB \\sin{\\left(\\operatorname{acos}{\\left(\\frac{D_{1}^{2} + D_{2}^{2} + OB^{2} - X_{cb}^{2}{\\left(t \\right)}}{2 OB \\sqrt{D_{1}^{2} + D_{2}^{2}}} \\right)} - \\operatorname{atan}{\\left(\\frac{D_{2}}{D_{1}} \\right)} \\right)}}{4} + \\left(OB + X_{cl}{\\left(t \\right)}\\right) \\sin{\\left(\\operatorname{acos}{\\left(\\frac{D_{1}^{2} + D_{2}^{2} + OB^{2} - X_{cb}^{2}{\\left(t \\right)}}{2 OB \\sqrt{D_{1}^{2} + D_{2}^{2}}} \\right)} - \\operatorname{atan}{\\left(\\frac{D_{2}}{D_{1}} \\right)} \\right)}\\right) \\left(e_{2}^{2} \\left(-2 + \\frac{\\pi}{2}\\right) + 2 e_{2} h_{2} + e_{2} r_{2} \\cdot \\left(2 + \\pi\\right)\\right)}{d g \\left(OB + X_{cl}{\\left(t \\right)}\\right) \\left(e_{1}^{2} \\left(-2 + \\frac{\\pi}{2}\\right) + 2 e_{1} h_{1} + e_{1} r_{1} \\cdot \\left(2 + \\pi\\right)\\right) + d g \\left(OB + X_{cl}{\\left(t \\right)}\\right) \\left(e_{2}^{2} \\left(-2 + \\frac{\\pi}{2}\\right) + 2 e_{2} h_{2} + e_{2} r_{2} \\cdot \\left(2 + \\pi\\right)\\right) + d g \\left(OB + X_{cl}{\\left(t \\right)}\\right) \\left(e_{3}^{2} \\left(-2 + \\frac{\\pi}{2}\\right) + 2 e_{3} h_{3} + e_{3} r_{3} \\cdot \\left(2 + \\pi\\right)\\right)}$"
          },
          "metadata": {}
        }
      ]
    },
    {
      "cell_type": "markdown",
      "source": [
        "##### Uma lança se estendendo"
      ],
      "metadata": {
        "id": "4db_PQhYkhib"
      }
    },
    {
      "cell_type": "code",
      "source": [
        "CG_x, CG_y = positionOfCG(EstadoDasLancas.UMA_ESTENDENDO)"
      ],
      "metadata": {
        "id": "EMTtPVY0khil"
      },
      "execution_count": null,
      "outputs": []
    },
    {
      "cell_type": "markdown",
      "source": [
        "###### CGx"
      ],
      "metadata": {
        "id": "MMxXDq_Kkhil"
      }
    },
    {
      "cell_type": "code",
      "source": [
        "display(CG_x)"
      ],
      "metadata": {
        "colab": {
          "base_uri": "https://localhost:8080/",
          "height": 144
        },
        "outputId": "968d8a50-15bb-48f1-a21a-b5479720c27f",
        "id": "-haANtykkhil"
      },
      "execution_count": null,
      "outputs": [
        {
          "output_type": "display_data",
          "data": {
            "text/plain": [
              "(d*g*(OB + X_cl(t))**2*(e_2**2*(-2 + pi/2) + 2*e_2*h_2 + e_2*r_2*(2 + pi))*cos(acos((D_1**2 + D_2**2 + OB**2 - X_cb(t)**2)/(2*OB*sqrt(D_1**2 + D_2**2))) - atan(D_2/D_1))/2 + d*g*(OB + X_cl(t))**2*(e_3**2*(-2 + pi/2) + 2*e_3*h_3 + e_3*r_3*(2 + pi))*cos(acos((D_1**2 + D_2**2 + OB**2 - X_cb(t)**2)/(2*OB*sqrt(D_1**2 + D_2**2))) - atan(D_2/D_1))/2 + d*g*(OB + X_cl(t))*(-OB*cos(acos((D_1**2 + D_2**2 + OB**2 - X_cb(t)**2)/(2*OB*sqrt(D_1**2 + D_2**2))) - atan(D_2/D_1))/2 + (OB + X_cl(t))*cos(acos((D_1**2 + D_2**2 + OB**2 - X_cb(t)**2)/(2*OB*sqrt(D_1**2 + D_2**2))) - atan(D_2/D_1)))*(e_1**2*(-2 + pi/2) + 2*e_1*h_1 + e_1*r_1*(2 + pi)))/(d*g*(OB + X_cl(t))*(e_1**2*(-2 + pi/2) + 2*e_1*h_1 + e_1*r_1*(2 + pi)) + d*g*(OB + X_cl(t))*(e_2**2*(-2 + pi/2) + 2*e_2*h_2 + e_2*r_2*(2 + pi)) + d*g*(OB + X_cl(t))*(e_3**2*(-2 + pi/2) + 2*e_3*h_3 + e_3*r_3*(2 + pi)))"
            ],
            "text/latex": "$\\displaystyle \\frac{\\frac{d g \\left(OB + X_{cl}{\\left(t \\right)}\\right)^{2} \\left(e_{2}^{2} \\left(-2 + \\frac{\\pi}{2}\\right) + 2 e_{2} h_{2} + e_{2} r_{2} \\cdot \\left(2 + \\pi\\right)\\right) \\cos{\\left(\\operatorname{acos}{\\left(\\frac{D_{1}^{2} + D_{2}^{2} + OB^{2} - X_{cb}^{2}{\\left(t \\right)}}{2 OB \\sqrt{D_{1}^{2} + D_{2}^{2}}} \\right)} - \\operatorname{atan}{\\left(\\frac{D_{2}}{D_{1}} \\right)} \\right)}}{2} + \\frac{d g \\left(OB + X_{cl}{\\left(t \\right)}\\right)^{2} \\left(e_{3}^{2} \\left(-2 + \\frac{\\pi}{2}\\right) + 2 e_{3} h_{3} + e_{3} r_{3} \\cdot \\left(2 + \\pi\\right)\\right) \\cos{\\left(\\operatorname{acos}{\\left(\\frac{D_{1}^{2} + D_{2}^{2} + OB^{2} - X_{cb}^{2}{\\left(t \\right)}}{2 OB \\sqrt{D_{1}^{2} + D_{2}^{2}}} \\right)} - \\operatorname{atan}{\\left(\\frac{D_{2}}{D_{1}} \\right)} \\right)}}{2} + d g \\left(OB + X_{cl}{\\left(t \\right)}\\right) \\left(- \\frac{OB \\cos{\\left(\\operatorname{acos}{\\left(\\frac{D_{1}^{2} + D_{2}^{2} + OB^{2} - X_{cb}^{2}{\\left(t \\right)}}{2 OB \\sqrt{D_{1}^{2} + D_{2}^{2}}} \\right)} - \\operatorname{atan}{\\left(\\frac{D_{2}}{D_{1}} \\right)} \\right)}}{2} + \\left(OB + X_{cl}{\\left(t \\right)}\\right) \\cos{\\left(\\operatorname{acos}{\\left(\\frac{D_{1}^{2} + D_{2}^{2} + OB^{2} - X_{cb}^{2}{\\left(t \\right)}}{2 OB \\sqrt{D_{1}^{2} + D_{2}^{2}}} \\right)} - \\operatorname{atan}{\\left(\\frac{D_{2}}{D_{1}} \\right)} \\right)}\\right) \\left(e_{1}^{2} \\left(-2 + \\frac{\\pi}{2}\\right) + 2 e_{1} h_{1} + e_{1} r_{1} \\cdot \\left(2 + \\pi\\right)\\right)}{d g \\left(OB + X_{cl}{\\left(t \\right)}\\right) \\left(e_{1}^{2} \\left(-2 + \\frac{\\pi}{2}\\right) + 2 e_{1} h_{1} + e_{1} r_{1} \\cdot \\left(2 + \\pi\\right)\\right) + d g \\left(OB + X_{cl}{\\left(t \\right)}\\right) \\left(e_{2}^{2} \\left(-2 + \\frac{\\pi}{2}\\right) + 2 e_{2} h_{2} + e_{2} r_{2} \\cdot \\left(2 + \\pi\\right)\\right) + d g \\left(OB + X_{cl}{\\left(t \\right)}\\right) \\left(e_{3}^{2} \\left(-2 + \\frac{\\pi}{2}\\right) + 2 e_{3} h_{3} + e_{3} r_{3} \\cdot \\left(2 + \\pi\\right)\\right)}$"
          },
          "metadata": {}
        }
      ]
    },
    {
      "cell_type": "markdown",
      "source": [
        "###### CGy"
      ],
      "metadata": {
        "id": "l4sG2jjHkhim"
      }
    },
    {
      "cell_type": "code",
      "source": [
        "display(CG_y)"
      ],
      "metadata": {
        "colab": {
          "base_uri": "https://localhost:8080/",
          "height": 144
        },
        "outputId": "2e2beb3b-5465-4975-852c-d17f0fb58d65",
        "id": "boEL5Yfwkhim"
      },
      "execution_count": null,
      "outputs": [
        {
          "output_type": "display_data",
          "data": {
            "text/plain": [
              "(d*g*(OB + X_cl(t))**2*(e_2**2*(-2 + pi/2) + 2*e_2*h_2 + e_2*r_2*(2 + pi))*sin(acos((D_1**2 + D_2**2 + OB**2 - X_cb(t)**2)/(2*OB*sqrt(D_1**2 + D_2**2))) - atan(D_2/D_1))/2 + d*g*(OB + X_cl(t))**2*(e_3**2*(-2 + pi/2) + 2*e_3*h_3 + e_3*r_3*(2 + pi))*sin(acos((D_1**2 + D_2**2 + OB**2 - X_cb(t)**2)/(2*OB*sqrt(D_1**2 + D_2**2))) - atan(D_2/D_1))/2 + d*g*(OB + X_cl(t))*(-OB*sin(acos((D_1**2 + D_2**2 + OB**2 - X_cb(t)**2)/(2*OB*sqrt(D_1**2 + D_2**2))) - atan(D_2/D_1))/2 + (OB + X_cl(t))*sin(acos((D_1**2 + D_2**2 + OB**2 - X_cb(t)**2)/(2*OB*sqrt(D_1**2 + D_2**2))) - atan(D_2/D_1)))*(e_1**2*(-2 + pi/2) + 2*e_1*h_1 + e_1*r_1*(2 + pi)))/(d*g*(OB + X_cl(t))*(e_1**2*(-2 + pi/2) + 2*e_1*h_1 + e_1*r_1*(2 + pi)) + d*g*(OB + X_cl(t))*(e_2**2*(-2 + pi/2) + 2*e_2*h_2 + e_2*r_2*(2 + pi)) + d*g*(OB + X_cl(t))*(e_3**2*(-2 + pi/2) + 2*e_3*h_3 + e_3*r_3*(2 + pi)))"
            ],
            "text/latex": "$\\displaystyle \\frac{\\frac{d g \\left(OB + X_{cl}{\\left(t \\right)}\\right)^{2} \\left(e_{2}^{2} \\left(-2 + \\frac{\\pi}{2}\\right) + 2 e_{2} h_{2} + e_{2} r_{2} \\cdot \\left(2 + \\pi\\right)\\right) \\sin{\\left(\\operatorname{acos}{\\left(\\frac{D_{1}^{2} + D_{2}^{2} + OB^{2} - X_{cb}^{2}{\\left(t \\right)}}{2 OB \\sqrt{D_{1}^{2} + D_{2}^{2}}} \\right)} - \\operatorname{atan}{\\left(\\frac{D_{2}}{D_{1}} \\right)} \\right)}}{2} + \\frac{d g \\left(OB + X_{cl}{\\left(t \\right)}\\right)^{2} \\left(e_{3}^{2} \\left(-2 + \\frac{\\pi}{2}\\right) + 2 e_{3} h_{3} + e_{3} r_{3} \\cdot \\left(2 + \\pi\\right)\\right) \\sin{\\left(\\operatorname{acos}{\\left(\\frac{D_{1}^{2} + D_{2}^{2} + OB^{2} - X_{cb}^{2}{\\left(t \\right)}}{2 OB \\sqrt{D_{1}^{2} + D_{2}^{2}}} \\right)} - \\operatorname{atan}{\\left(\\frac{D_{2}}{D_{1}} \\right)} \\right)}}{2} + d g \\left(OB + X_{cl}{\\left(t \\right)}\\right) \\left(- \\frac{OB \\sin{\\left(\\operatorname{acos}{\\left(\\frac{D_{1}^{2} + D_{2}^{2} + OB^{2} - X_{cb}^{2}{\\left(t \\right)}}{2 OB \\sqrt{D_{1}^{2} + D_{2}^{2}}} \\right)} - \\operatorname{atan}{\\left(\\frac{D_{2}}{D_{1}} \\right)} \\right)}}{2} + \\left(OB + X_{cl}{\\left(t \\right)}\\right) \\sin{\\left(\\operatorname{acos}{\\left(\\frac{D_{1}^{2} + D_{2}^{2} + OB^{2} - X_{cb}^{2}{\\left(t \\right)}}{2 OB \\sqrt{D_{1}^{2} + D_{2}^{2}}} \\right)} - \\operatorname{atan}{\\left(\\frac{D_{2}}{D_{1}} \\right)} \\right)}\\right) \\left(e_{1}^{2} \\left(-2 + \\frac{\\pi}{2}\\right) + 2 e_{1} h_{1} + e_{1} r_{1} \\cdot \\left(2 + \\pi\\right)\\right)}{d g \\left(OB + X_{cl}{\\left(t \\right)}\\right) \\left(e_{1}^{2} \\left(-2 + \\frac{\\pi}{2}\\right) + 2 e_{1} h_{1} + e_{1} r_{1} \\cdot \\left(2 + \\pi\\right)\\right) + d g \\left(OB + X_{cl}{\\left(t \\right)}\\right) \\left(e_{2}^{2} \\left(-2 + \\frac{\\pi}{2}\\right) + 2 e_{2} h_{2} + e_{2} r_{2} \\cdot \\left(2 + \\pi\\right)\\right) + d g \\left(OB + X_{cl}{\\left(t \\right)}\\right) \\left(e_{3}^{2} \\left(-2 + \\frac{\\pi}{2}\\right) + 2 e_{3} h_{3} + e_{3} r_{3} \\cdot \\left(2 + \\pi\\right)\\right)}$"
          },
          "metadata": {}
        }
      ]
    },
    {
      "cell_type": "markdown",
      "source": [
        "##### Duas lanças se estendendo"
      ],
      "metadata": {
        "id": "jixbHjbkkiC-"
      }
    },
    {
      "cell_type": "code",
      "source": [
        "CG_x, CG_y = positionOfCG(EstadoDasLancas.DUAS_ESTENDENDO)"
      ],
      "metadata": {
        "id": "HHnZOHIlkiC-"
      },
      "execution_count": null,
      "outputs": []
    },
    {
      "cell_type": "markdown",
      "source": [
        "###### CGx"
      ],
      "metadata": {
        "id": "p-IOjJ5NkiC-"
      }
    },
    {
      "cell_type": "code",
      "source": [
        "display(CG_x)"
      ],
      "metadata": {
        "colab": {
          "base_uri": "https://localhost:8080/",
          "height": 144
        },
        "outputId": "5d11722d-6b90-4b8b-9d4b-c427695945e5",
        "id": "M-InmmNDkiC-"
      },
      "execution_count": null,
      "outputs": [
        {
          "output_type": "display_data",
          "data": {
            "text/plain": [
              "(d*g*(OB + X_cl(t))**2*(e_3**2*(-2 + pi/2) + 2*e_3*h_3 + e_3*r_3*(2 + pi))*cos(acos((D_1**2 + D_2**2 + OB**2 - X_cb(t)**2)/(2*OB*sqrt(D_1**2 + D_2**2))) - atan(D_2/D_1))/2 + d*g*(OB + X_cl(t))*(-3*OB*cos(acos((D_1**2 + D_2**2 + OB**2 - X_cb(t)**2)/(2*OB*sqrt(D_1**2 + D_2**2))) - atan(D_2/D_1))/4 + (OB + X_cl(t))*cos(acos((D_1**2 + D_2**2 + OB**2 - X_cb(t)**2)/(2*OB*sqrt(D_1**2 + D_2**2))) - atan(D_2/D_1)))*(e_1**2*(-2 + pi/2) + 2*e_1*h_1 + e_1*r_1*(2 + pi)) + d*g*(OB + X_cl(t))*(-OB*cos(acos((D_1**2 + D_2**2 + OB**2 - X_cb(t)**2)/(2*OB*sqrt(D_1**2 + D_2**2))) - atan(D_2/D_1))/4 + (OB + X_cl(t))*cos(acos((D_1**2 + D_2**2 + OB**2 - X_cb(t)**2)/(2*OB*sqrt(D_1**2 + D_2**2))) - atan(D_2/D_1)))*(e_2**2*(-2 + pi/2) + 2*e_2*h_2 + e_2*r_2*(2 + pi)))/(d*g*(OB + X_cl(t))*(e_1**2*(-2 + pi/2) + 2*e_1*h_1 + e_1*r_1*(2 + pi)) + d*g*(OB + X_cl(t))*(e_2**2*(-2 + pi/2) + 2*e_2*h_2 + e_2*r_2*(2 + pi)) + d*g*(OB + X_cl(t))*(e_3**2*(-2 + pi/2) + 2*e_3*h_3 + e_3*r_3*(2 + pi)))"
            ],
            "text/latex": "$\\displaystyle \\frac{\\frac{d g \\left(OB + X_{cl}{\\left(t \\right)}\\right)^{2} \\left(e_{3}^{2} \\left(-2 + \\frac{\\pi}{2}\\right) + 2 e_{3} h_{3} + e_{3} r_{3} \\cdot \\left(2 + \\pi\\right)\\right) \\cos{\\left(\\operatorname{acos}{\\left(\\frac{D_{1}^{2} + D_{2}^{2} + OB^{2} - X_{cb}^{2}{\\left(t \\right)}}{2 OB \\sqrt{D_{1}^{2} + D_{2}^{2}}} \\right)} - \\operatorname{atan}{\\left(\\frac{D_{2}}{D_{1}} \\right)} \\right)}}{2} + d g \\left(OB + X_{cl}{\\left(t \\right)}\\right) \\left(- \\frac{3 OB \\cos{\\left(\\operatorname{acos}{\\left(\\frac{D_{1}^{2} + D_{2}^{2} + OB^{2} - X_{cb}^{2}{\\left(t \\right)}}{2 OB \\sqrt{D_{1}^{2} + D_{2}^{2}}} \\right)} - \\operatorname{atan}{\\left(\\frac{D_{2}}{D_{1}} \\right)} \\right)}}{4} + \\left(OB + X_{cl}{\\left(t \\right)}\\right) \\cos{\\left(\\operatorname{acos}{\\left(\\frac{D_{1}^{2} + D_{2}^{2} + OB^{2} - X_{cb}^{2}{\\left(t \\right)}}{2 OB \\sqrt{D_{1}^{2} + D_{2}^{2}}} \\right)} - \\operatorname{atan}{\\left(\\frac{D_{2}}{D_{1}} \\right)} \\right)}\\right) \\left(e_{1}^{2} \\left(-2 + \\frac{\\pi}{2}\\right) + 2 e_{1} h_{1} + e_{1} r_{1} \\cdot \\left(2 + \\pi\\right)\\right) + d g \\left(OB + X_{cl}{\\left(t \\right)}\\right) \\left(- \\frac{OB \\cos{\\left(\\operatorname{acos}{\\left(\\frac{D_{1}^{2} + D_{2}^{2} + OB^{2} - X_{cb}^{2}{\\left(t \\right)}}{2 OB \\sqrt{D_{1}^{2} + D_{2}^{2}}} \\right)} - \\operatorname{atan}{\\left(\\frac{D_{2}}{D_{1}} \\right)} \\right)}}{4} + \\left(OB + X_{cl}{\\left(t \\right)}\\right) \\cos{\\left(\\operatorname{acos}{\\left(\\frac{D_{1}^{2} + D_{2}^{2} + OB^{2} - X_{cb}^{2}{\\left(t \\right)}}{2 OB \\sqrt{D_{1}^{2} + D_{2}^{2}}} \\right)} - \\operatorname{atan}{\\left(\\frac{D_{2}}{D_{1}} \\right)} \\right)}\\right) \\left(e_{2}^{2} \\left(-2 + \\frac{\\pi}{2}\\right) + 2 e_{2} h_{2} + e_{2} r_{2} \\cdot \\left(2 + \\pi\\right)\\right)}{d g \\left(OB + X_{cl}{\\left(t \\right)}\\right) \\left(e_{1}^{2} \\left(-2 + \\frac{\\pi}{2}\\right) + 2 e_{1} h_{1} + e_{1} r_{1} \\cdot \\left(2 + \\pi\\right)\\right) + d g \\left(OB + X_{cl}{\\left(t \\right)}\\right) \\left(e_{2}^{2} \\left(-2 + \\frac{\\pi}{2}\\right) + 2 e_{2} h_{2} + e_{2} r_{2} \\cdot \\left(2 + \\pi\\right)\\right) + d g \\left(OB + X_{cl}{\\left(t \\right)}\\right) \\left(e_{3}^{2} \\left(-2 + \\frac{\\pi}{2}\\right) + 2 e_{3} h_{3} + e_{3} r_{3} \\cdot \\left(2 + \\pi\\right)\\right)}$"
          },
          "metadata": {}
        }
      ]
    },
    {
      "cell_type": "markdown",
      "source": [
        "###### CGy"
      ],
      "metadata": {
        "id": "e3qfnP9PkiC-"
      }
    },
    {
      "cell_type": "code",
      "source": [
        "display(CG_y)"
      ],
      "metadata": {
        "colab": {
          "base_uri": "https://localhost:8080/",
          "height": 144
        },
        "outputId": "3a6a6afe-c3a2-49a1-94c8-fc7f4495a3b8",
        "id": "33b7whdbkiC-"
      },
      "execution_count": null,
      "outputs": [
        {
          "output_type": "display_data",
          "data": {
            "text/plain": [
              "(d*g*(OB + X_cl(t))**2*(e_3**2*(-2 + pi/2) + 2*e_3*h_3 + e_3*r_3*(2 + pi))*sin(acos((D_1**2 + D_2**2 + OB**2 - X_cb(t)**2)/(2*OB*sqrt(D_1**2 + D_2**2))) - atan(D_2/D_1))/2 + d*g*(OB + X_cl(t))*(-3*OB*sin(acos((D_1**2 + D_2**2 + OB**2 - X_cb(t)**2)/(2*OB*sqrt(D_1**2 + D_2**2))) - atan(D_2/D_1))/4 + (OB + X_cl(t))*sin(acos((D_1**2 + D_2**2 + OB**2 - X_cb(t)**2)/(2*OB*sqrt(D_1**2 + D_2**2))) - atan(D_2/D_1)))*(e_1**2*(-2 + pi/2) + 2*e_1*h_1 + e_1*r_1*(2 + pi)) + d*g*(OB + X_cl(t))*(-OB*sin(acos((D_1**2 + D_2**2 + OB**2 - X_cb(t)**2)/(2*OB*sqrt(D_1**2 + D_2**2))) - atan(D_2/D_1))/4 + (OB + X_cl(t))*sin(acos((D_1**2 + D_2**2 + OB**2 - X_cb(t)**2)/(2*OB*sqrt(D_1**2 + D_2**2))) - atan(D_2/D_1)))*(e_2**2*(-2 + pi/2) + 2*e_2*h_2 + e_2*r_2*(2 + pi)))/(d*g*(OB + X_cl(t))*(e_1**2*(-2 + pi/2) + 2*e_1*h_1 + e_1*r_1*(2 + pi)) + d*g*(OB + X_cl(t))*(e_2**2*(-2 + pi/2) + 2*e_2*h_2 + e_2*r_2*(2 + pi)) + d*g*(OB + X_cl(t))*(e_3**2*(-2 + pi/2) + 2*e_3*h_3 + e_3*r_3*(2 + pi)))"
            ],
            "text/latex": "$\\displaystyle \\frac{\\frac{d g \\left(OB + X_{cl}{\\left(t \\right)}\\right)^{2} \\left(e_{3}^{2} \\left(-2 + \\frac{\\pi}{2}\\right) + 2 e_{3} h_{3} + e_{3} r_{3} \\cdot \\left(2 + \\pi\\right)\\right) \\sin{\\left(\\operatorname{acos}{\\left(\\frac{D_{1}^{2} + D_{2}^{2} + OB^{2} - X_{cb}^{2}{\\left(t \\right)}}{2 OB \\sqrt{D_{1}^{2} + D_{2}^{2}}} \\right)} - \\operatorname{atan}{\\left(\\frac{D_{2}}{D_{1}} \\right)} \\right)}}{2} + d g \\left(OB + X_{cl}{\\left(t \\right)}\\right) \\left(- \\frac{3 OB \\sin{\\left(\\operatorname{acos}{\\left(\\frac{D_{1}^{2} + D_{2}^{2} + OB^{2} - X_{cb}^{2}{\\left(t \\right)}}{2 OB \\sqrt{D_{1}^{2} + D_{2}^{2}}} \\right)} - \\operatorname{atan}{\\left(\\frac{D_{2}}{D_{1}} \\right)} \\right)}}{4} + \\left(OB + X_{cl}{\\left(t \\right)}\\right) \\sin{\\left(\\operatorname{acos}{\\left(\\frac{D_{1}^{2} + D_{2}^{2} + OB^{2} - X_{cb}^{2}{\\left(t \\right)}}{2 OB \\sqrt{D_{1}^{2} + D_{2}^{2}}} \\right)} - \\operatorname{atan}{\\left(\\frac{D_{2}}{D_{1}} \\right)} \\right)}\\right) \\left(e_{1}^{2} \\left(-2 + \\frac{\\pi}{2}\\right) + 2 e_{1} h_{1} + e_{1} r_{1} \\cdot \\left(2 + \\pi\\right)\\right) + d g \\left(OB + X_{cl}{\\left(t \\right)}\\right) \\left(- \\frac{OB \\sin{\\left(\\operatorname{acos}{\\left(\\frac{D_{1}^{2} + D_{2}^{2} + OB^{2} - X_{cb}^{2}{\\left(t \\right)}}{2 OB \\sqrt{D_{1}^{2} + D_{2}^{2}}} \\right)} - \\operatorname{atan}{\\left(\\frac{D_{2}}{D_{1}} \\right)} \\right)}}{4} + \\left(OB + X_{cl}{\\left(t \\right)}\\right) \\sin{\\left(\\operatorname{acos}{\\left(\\frac{D_{1}^{2} + D_{2}^{2} + OB^{2} - X_{cb}^{2}{\\left(t \\right)}}{2 OB \\sqrt{D_{1}^{2} + D_{2}^{2}}} \\right)} - \\operatorname{atan}{\\left(\\frac{D_{2}}{D_{1}} \\right)} \\right)}\\right) \\left(e_{2}^{2} \\left(-2 + \\frac{\\pi}{2}\\right) + 2 e_{2} h_{2} + e_{2} r_{2} \\cdot \\left(2 + \\pi\\right)\\right)}{d g \\left(OB + X_{cl}{\\left(t \\right)}\\right) \\left(e_{1}^{2} \\left(-2 + \\frac{\\pi}{2}\\right) + 2 e_{1} h_{1} + e_{1} r_{1} \\cdot \\left(2 + \\pi\\right)\\right) + d g \\left(OB + X_{cl}{\\left(t \\right)}\\right) \\left(e_{2}^{2} \\left(-2 + \\frac{\\pi}{2}\\right) + 2 e_{2} h_{2} + e_{2} r_{2} \\cdot \\left(2 + \\pi\\right)\\right) + d g \\left(OB + X_{cl}{\\left(t \\right)}\\right) \\left(e_{3}^{2} \\left(-2 + \\frac{\\pi}{2}\\right) + 2 e_{3} h_{3} + e_{3} r_{3} \\cdot \\left(2 + \\pi\\right)\\right)}$"
          },
          "metadata": {}
        }
      ]
    },
    {
      "cell_type": "markdown",
      "source": [
        "#### Inércia"
      ],
      "metadata": {
        "id": "9h8GDVbrloWk"
      }
    },
    {
      "cell_type": "markdown",
      "source": [
        "##### Duas lanças retraídas"
      ],
      "metadata": {
        "id": "g5_FWjqUloWt"
      }
    },
    {
      "cell_type": "code",
      "source": [
        "CGx, CGy = positionOfCG(EstadoDasLancas.DUAS_RETRAIDAS)\n",
        "display(massInertia(CGx, CGy))"
      ],
      "metadata": {
        "colab": {
          "base_uri": "https://localhost:8080/",
          "height": 243
        },
        "id": "FwdmkMLeloWu",
        "outputId": "4f45ed7e-fd71-4ae0-d1f6-4d92f9277558"
      },
      "execution_count": null,
      "outputs": [
        {
          "output_type": "display_data",
          "data": {
            "text/plain": [
              "d*(OB + X_cl(t))**3*(e_1**2*(-2 + pi/2) + 2*e_1*h_1 + e_1*r_1*(2 + pi) + e_2**2*(-2 + pi/2) + 2*e_2*h_2 + e_2*r_2*(2 + pi) + e_3**2*(-2 + pi/2) + 2*e_3*h_3 + e_3*r_3*(2 + pi)) + d*(OB + X_cl(t))*((d*g*(OB + X_cl(t))**2*(e_1**2*(-2 + pi/2) + 2*e_1*h_1 + e_1*r_1*(2 + pi))*sin(acos((D_1**2 + D_2**2 + OB**2 - X_cb(t)**2)/(2*OB*sqrt(D_1**2 + D_2**2))) - atan(D_2/D_1))/2 + d*g*(OB + X_cl(t))**2*(e_2**2*(-2 + pi/2) + 2*e_2*h_2 + e_2*r_2*(2 + pi))*sin(acos((D_1**2 + D_2**2 + OB**2 - X_cb(t)**2)/(2*OB*sqrt(D_1**2 + D_2**2))) - atan(D_2/D_1))/2 + d*g*(OB + X_cl(t))**2*(e_3**2*(-2 + pi/2) + 2*e_3*h_3 + e_3*r_3*(2 + pi))*sin(acos((D_1**2 + D_2**2 + OB**2 - X_cb(t)**2)/(2*OB*sqrt(D_1**2 + D_2**2))) - atan(D_2/D_1))/2)**2/(d*g*(OB + X_cl(t))*(e_1**2*(-2 + pi/2) + 2*e_1*h_1 + e_1*r_1*(2 + pi)) + d*g*(OB + X_cl(t))*(e_2**2*(-2 + pi/2) + 2*e_2*h_2 + e_2*r_2*(2 + pi)) + d*g*(OB + X_cl(t))*(e_3**2*(-2 + pi/2) + 2*e_3*h_3 + e_3*r_3*(2 + pi)))**2 + (d*g*(OB + X_cl(t))**2*(e_1**2*(-2 + pi/2) + 2*e_1*h_1 + e_1*r_1*(2 + pi))*cos(acos((D_1**2 + D_2**2 + OB**2 - X_cb(t)**2)/(2*OB*sqrt(D_1**2 + D_2**2))) - atan(D_2/D_1))/2 + d*g*(OB + X_cl(t))**2*(e_2**2*(-2 + pi/2) + 2*e_2*h_2 + e_2*r_2*(2 + pi))*cos(acos((D_1**2 + D_2**2 + OB**2 - X_cb(t)**2)/(2*OB*sqrt(D_1**2 + D_2**2))) - atan(D_2/D_1))/2 + d*g*(OB + X_cl(t))**2*(e_3**2*(-2 + pi/2) + 2*e_3*h_3 + e_3*r_3*(2 + pi))*cos(acos((D_1**2 + D_2**2 + OB**2 - X_cb(t)**2)/(2*OB*sqrt(D_1**2 + D_2**2))) - atan(D_2/D_1))/2)**2/(d*g*(OB + X_cl(t))*(e_1**2*(-2 + pi/2) + 2*e_1*h_1 + e_1*r_1*(2 + pi)) + d*g*(OB + X_cl(t))*(e_2**2*(-2 + pi/2) + 2*e_2*h_2 + e_2*r_2*(2 + pi)) + d*g*(OB + X_cl(t))*(e_3**2*(-2 + pi/2) + 2*e_3*h_3 + e_3*r_3*(2 + pi)))**2)*(e_1**2*(-2 + pi/2) + 2*e_1*h_1 + e_1*r_1*(2 + pi) + e_2**2*(-2 + pi/2) + 2*e_2*h_2 + e_2*r_2*(2 + pi) + e_3**2*(-2 + pi/2) + 2*e_3*h_3 + e_3*r_3*(2 + pi))"
            ],
            "text/latex": "$\\displaystyle d \\left(OB + X_{cl}{\\left(t \\right)}\\right)^{3} \\left(e_{1}^{2} \\left(-2 + \\frac{\\pi}{2}\\right) + 2 e_{1} h_{1} + e_{1} r_{1} \\cdot \\left(2 + \\pi\\right) + e_{2}^{2} \\left(-2 + \\frac{\\pi}{2}\\right) + 2 e_{2} h_{2} + e_{2} r_{2} \\cdot \\left(2 + \\pi\\right) + e_{3}^{2} \\left(-2 + \\frac{\\pi}{2}\\right) + 2 e_{3} h_{3} + e_{3} r_{3} \\cdot \\left(2 + \\pi\\right)\\right) + d \\left(OB + X_{cl}{\\left(t \\right)}\\right) \\left(\\frac{\\left(\\frac{d g \\left(OB + X_{cl}{\\left(t \\right)}\\right)^{2} \\left(e_{1}^{2} \\left(-2 + \\frac{\\pi}{2}\\right) + 2 e_{1} h_{1} + e_{1} r_{1} \\cdot \\left(2 + \\pi\\right)\\right) \\sin{\\left(\\operatorname{acos}{\\left(\\frac{D_{1}^{2} + D_{2}^{2} + OB^{2} - X_{cb}^{2}{\\left(t \\right)}}{2 OB \\sqrt{D_{1}^{2} + D_{2}^{2}}} \\right)} - \\operatorname{atan}{\\left(\\frac{D_{2}}{D_{1}} \\right)} \\right)}}{2} + \\frac{d g \\left(OB + X_{cl}{\\left(t \\right)}\\right)^{2} \\left(e_{2}^{2} \\left(-2 + \\frac{\\pi}{2}\\right) + 2 e_{2} h_{2} + e_{2} r_{2} \\cdot \\left(2 + \\pi\\right)\\right) \\sin{\\left(\\operatorname{acos}{\\left(\\frac{D_{1}^{2} + D_{2}^{2} + OB^{2} - X_{cb}^{2}{\\left(t \\right)}}{2 OB \\sqrt{D_{1}^{2} + D_{2}^{2}}} \\right)} - \\operatorname{atan}{\\left(\\frac{D_{2}}{D_{1}} \\right)} \\right)}}{2} + \\frac{d g \\left(OB + X_{cl}{\\left(t \\right)}\\right)^{2} \\left(e_{3}^{2} \\left(-2 + \\frac{\\pi}{2}\\right) + 2 e_{3} h_{3} + e_{3} r_{3} \\cdot \\left(2 + \\pi\\right)\\right) \\sin{\\left(\\operatorname{acos}{\\left(\\frac{D_{1}^{2} + D_{2}^{2} + OB^{2} - X_{cb}^{2}{\\left(t \\right)}}{2 OB \\sqrt{D_{1}^{2} + D_{2}^{2}}} \\right)} - \\operatorname{atan}{\\left(\\frac{D_{2}}{D_{1}} \\right)} \\right)}}{2}\\right)^{2}}{\\left(d g \\left(OB + X_{cl}{\\left(t \\right)}\\right) \\left(e_{1}^{2} \\left(-2 + \\frac{\\pi}{2}\\right) + 2 e_{1} h_{1} + e_{1} r_{1} \\cdot \\left(2 + \\pi\\right)\\right) + d g \\left(OB + X_{cl}{\\left(t \\right)}\\right) \\left(e_{2}^{2} \\left(-2 + \\frac{\\pi}{2}\\right) + 2 e_{2} h_{2} + e_{2} r_{2} \\cdot \\left(2 + \\pi\\right)\\right) + d g \\left(OB + X_{cl}{\\left(t \\right)}\\right) \\left(e_{3}^{2} \\left(-2 + \\frac{\\pi}{2}\\right) + 2 e_{3} h_{3} + e_{3} r_{3} \\cdot \\left(2 + \\pi\\right)\\right)\\right)^{2}} + \\frac{\\left(\\frac{d g \\left(OB + X_{cl}{\\left(t \\right)}\\right)^{2} \\left(e_{1}^{2} \\left(-2 + \\frac{\\pi}{2}\\right) + 2 e_{1} h_{1} + e_{1} r_{1} \\cdot \\left(2 + \\pi\\right)\\right) \\cos{\\left(\\operatorname{acos}{\\left(\\frac{D_{1}^{2} + D_{2}^{2} + OB^{2} - X_{cb}^{2}{\\left(t \\right)}}{2 OB \\sqrt{D_{1}^{2} + D_{2}^{2}}} \\right)} - \\operatorname{atan}{\\left(\\frac{D_{2}}{D_{1}} \\right)} \\right)}}{2} + \\frac{d g \\left(OB + X_{cl}{\\left(t \\right)}\\right)^{2} \\left(e_{2}^{2} \\left(-2 + \\frac{\\pi}{2}\\right) + 2 e_{2} h_{2} + e_{2} r_{2} \\cdot \\left(2 + \\pi\\right)\\right) \\cos{\\left(\\operatorname{acos}{\\left(\\frac{D_{1}^{2} + D_{2}^{2} + OB^{2} - X_{cb}^{2}{\\left(t \\right)}}{2 OB \\sqrt{D_{1}^{2} + D_{2}^{2}}} \\right)} - \\operatorname{atan}{\\left(\\frac{D_{2}}{D_{1}} \\right)} \\right)}}{2} + \\frac{d g \\left(OB + X_{cl}{\\left(t \\right)}\\right)^{2} \\left(e_{3}^{2} \\left(-2 + \\frac{\\pi}{2}\\right) + 2 e_{3} h_{3} + e_{3} r_{3} \\cdot \\left(2 + \\pi\\right)\\right) \\cos{\\left(\\operatorname{acos}{\\left(\\frac{D_{1}^{2} + D_{2}^{2} + OB^{2} - X_{cb}^{2}{\\left(t \\right)}}{2 OB \\sqrt{D_{1}^{2} + D_{2}^{2}}} \\right)} - \\operatorname{atan}{\\left(\\frac{D_{2}}{D_{1}} \\right)} \\right)}}{2}\\right)^{2}}{\\left(d g \\left(OB + X_{cl}{\\left(t \\right)}\\right) \\left(e_{1}^{2} \\left(-2 + \\frac{\\pi}{2}\\right) + 2 e_{1} h_{1} + e_{1} r_{1} \\cdot \\left(2 + \\pi\\right)\\right) + d g \\left(OB + X_{cl}{\\left(t \\right)}\\right) \\left(e_{2}^{2} \\left(-2 + \\frac{\\pi}{2}\\right) + 2 e_{2} h_{2} + e_{2} r_{2} \\cdot \\left(2 + \\pi\\right)\\right) + d g \\left(OB + X_{cl}{\\left(t \\right)}\\right) \\left(e_{3}^{2} \\left(-2 + \\frac{\\pi}{2}\\right) + 2 e_{3} h_{3} + e_{3} r_{3} \\cdot \\left(2 + \\pi\\right)\\right)\\right)^{2}}\\right) \\left(e_{1}^{2} \\left(-2 + \\frac{\\pi}{2}\\right) + 2 e_{1} h_{1} + e_{1} r_{1} \\cdot \\left(2 + \\pi\\right) + e_{2}^{2} \\left(-2 + \\frac{\\pi}{2}\\right) + 2 e_{2} h_{2} + e_{2} r_{2} \\cdot \\left(2 + \\pi\\right) + e_{3}^{2} \\left(-2 + \\frac{\\pi}{2}\\right) + 2 e_{3} h_{3} + e_{3} r_{3} \\cdot \\left(2 + \\pi\\right)\\right)$"
          },
          "metadata": {}
        }
      ]
    },
    {
      "cell_type": "markdown",
      "source": [
        "##### Uma lança se estendendo"
      ],
      "metadata": {
        "id": "3UZOF_ovpPk8"
      }
    },
    {
      "cell_type": "code",
      "source": [
        "CGx, CGy = positionOfCG(EstadoDasLancas.UMA_ESTENDENDO)\n",
        "display(massInertia(CGx, CGy))"
      ],
      "metadata": {
        "colab": {
          "base_uri": "https://localhost:8080/",
          "height": 243
        },
        "outputId": "2dd3282a-72e1-4581-e62f-f31e9f823b55",
        "id": "U_E8Qr59pPlH"
      },
      "execution_count": null,
      "outputs": [
        {
          "output_type": "display_data",
          "data": {
            "text/plain": [
              "d*(OB + X_cl(t))**3*(e_1**2*(-2 + pi/2) + 2*e_1*h_1 + e_1*r_1*(2 + pi) + e_2**2*(-2 + pi/2) + 2*e_2*h_2 + e_2*r_2*(2 + pi) + e_3**2*(-2 + pi/2) + 2*e_3*h_3 + e_3*r_3*(2 + pi)) + d*(OB + X_cl(t))*((d*g*(OB + X_cl(t))**2*(e_2**2*(-2 + pi/2) + 2*e_2*h_2 + e_2*r_2*(2 + pi))*sin(acos((D_1**2 + D_2**2 + OB**2 - X_cb(t)**2)/(2*OB*sqrt(D_1**2 + D_2**2))) - atan(D_2/D_1))/2 + d*g*(OB + X_cl(t))**2*(e_3**2*(-2 + pi/2) + 2*e_3*h_3 + e_3*r_3*(2 + pi))*sin(acos((D_1**2 + D_2**2 + OB**2 - X_cb(t)**2)/(2*OB*sqrt(D_1**2 + D_2**2))) - atan(D_2/D_1))/2 + d*g*(OB + X_cl(t))*(-OB*sin(acos((D_1**2 + D_2**2 + OB**2 - X_cb(t)**2)/(2*OB*sqrt(D_1**2 + D_2**2))) - atan(D_2/D_1))/2 + (OB + X_cl(t))*sin(acos((D_1**2 + D_2**2 + OB**2 - X_cb(t)**2)/(2*OB*sqrt(D_1**2 + D_2**2))) - atan(D_2/D_1)))*(e_1**2*(-2 + pi/2) + 2*e_1*h_1 + e_1*r_1*(2 + pi)))**2/(d*g*(OB + X_cl(t))*(e_1**2*(-2 + pi/2) + 2*e_1*h_1 + e_1*r_1*(2 + pi)) + d*g*(OB + X_cl(t))*(e_2**2*(-2 + pi/2) + 2*e_2*h_2 + e_2*r_2*(2 + pi)) + d*g*(OB + X_cl(t))*(e_3**2*(-2 + pi/2) + 2*e_3*h_3 + e_3*r_3*(2 + pi)))**2 + (d*g*(OB + X_cl(t))**2*(e_2**2*(-2 + pi/2) + 2*e_2*h_2 + e_2*r_2*(2 + pi))*cos(acos((D_1**2 + D_2**2 + OB**2 - X_cb(t)**2)/(2*OB*sqrt(D_1**2 + D_2**2))) - atan(D_2/D_1))/2 + d*g*(OB + X_cl(t))**2*(e_3**2*(-2 + pi/2) + 2*e_3*h_3 + e_3*r_3*(2 + pi))*cos(acos((D_1**2 + D_2**2 + OB**2 - X_cb(t)**2)/(2*OB*sqrt(D_1**2 + D_2**2))) - atan(D_2/D_1))/2 + d*g*(OB + X_cl(t))*(-OB*cos(acos((D_1**2 + D_2**2 + OB**2 - X_cb(t)**2)/(2*OB*sqrt(D_1**2 + D_2**2))) - atan(D_2/D_1))/2 + (OB + X_cl(t))*cos(acos((D_1**2 + D_2**2 + OB**2 - X_cb(t)**2)/(2*OB*sqrt(D_1**2 + D_2**2))) - atan(D_2/D_1)))*(e_1**2*(-2 + pi/2) + 2*e_1*h_1 + e_1*r_1*(2 + pi)))**2/(d*g*(OB + X_cl(t))*(e_1**2*(-2 + pi/2) + 2*e_1*h_1 + e_1*r_1*(2 + pi)) + d*g*(OB + X_cl(t))*(e_2**2*(-2 + pi/2) + 2*e_2*h_2 + e_2*r_2*(2 + pi)) + d*g*(OB + X_cl(t))*(e_3**2*(-2 + pi/2) + 2*e_3*h_3 + e_3*r_3*(2 + pi)))**2)*(e_1**2*(-2 + pi/2) + 2*e_1*h_1 + e_1*r_1*(2 + pi) + e_2**2*(-2 + pi/2) + 2*e_2*h_2 + e_2*r_2*(2 + pi) + e_3**2*(-2 + pi/2) + 2*e_3*h_3 + e_3*r_3*(2 + pi))"
            ],
            "text/latex": "$\\displaystyle d \\left(OB + X_{cl}{\\left(t \\right)}\\right)^{3} \\left(e_{1}^{2} \\left(-2 + \\frac{\\pi}{2}\\right) + 2 e_{1} h_{1} + e_{1} r_{1} \\cdot \\left(2 + \\pi\\right) + e_{2}^{2} \\left(-2 + \\frac{\\pi}{2}\\right) + 2 e_{2} h_{2} + e_{2} r_{2} \\cdot \\left(2 + \\pi\\right) + e_{3}^{2} \\left(-2 + \\frac{\\pi}{2}\\right) + 2 e_{3} h_{3} + e_{3} r_{3} \\cdot \\left(2 + \\pi\\right)\\right) + d \\left(OB + X_{cl}{\\left(t \\right)}\\right) \\left(\\frac{\\left(\\frac{d g \\left(OB + X_{cl}{\\left(t \\right)}\\right)^{2} \\left(e_{2}^{2} \\left(-2 + \\frac{\\pi}{2}\\right) + 2 e_{2} h_{2} + e_{2} r_{2} \\cdot \\left(2 + \\pi\\right)\\right) \\sin{\\left(\\operatorname{acos}{\\left(\\frac{D_{1}^{2} + D_{2}^{2} + OB^{2} - X_{cb}^{2}{\\left(t \\right)}}{2 OB \\sqrt{D_{1}^{2} + D_{2}^{2}}} \\right)} - \\operatorname{atan}{\\left(\\frac{D_{2}}{D_{1}} \\right)} \\right)}}{2} + \\frac{d g \\left(OB + X_{cl}{\\left(t \\right)}\\right)^{2} \\left(e_{3}^{2} \\left(-2 + \\frac{\\pi}{2}\\right) + 2 e_{3} h_{3} + e_{3} r_{3} \\cdot \\left(2 + \\pi\\right)\\right) \\sin{\\left(\\operatorname{acos}{\\left(\\frac{D_{1}^{2} + D_{2}^{2} + OB^{2} - X_{cb}^{2}{\\left(t \\right)}}{2 OB \\sqrt{D_{1}^{2} + D_{2}^{2}}} \\right)} - \\operatorname{atan}{\\left(\\frac{D_{2}}{D_{1}} \\right)} \\right)}}{2} + d g \\left(OB + X_{cl}{\\left(t \\right)}\\right) \\left(- \\frac{OB \\sin{\\left(\\operatorname{acos}{\\left(\\frac{D_{1}^{2} + D_{2}^{2} + OB^{2} - X_{cb}^{2}{\\left(t \\right)}}{2 OB \\sqrt{D_{1}^{2} + D_{2}^{2}}} \\right)} - \\operatorname{atan}{\\left(\\frac{D_{2}}{D_{1}} \\right)} \\right)}}{2} + \\left(OB + X_{cl}{\\left(t \\right)}\\right) \\sin{\\left(\\operatorname{acos}{\\left(\\frac{D_{1}^{2} + D_{2}^{2} + OB^{2} - X_{cb}^{2}{\\left(t \\right)}}{2 OB \\sqrt{D_{1}^{2} + D_{2}^{2}}} \\right)} - \\operatorname{atan}{\\left(\\frac{D_{2}}{D_{1}} \\right)} \\right)}\\right) \\left(e_{1}^{2} \\left(-2 + \\frac{\\pi}{2}\\right) + 2 e_{1} h_{1} + e_{1} r_{1} \\cdot \\left(2 + \\pi\\right)\\right)\\right)^{2}}{\\left(d g \\left(OB + X_{cl}{\\left(t \\right)}\\right) \\left(e_{1}^{2} \\left(-2 + \\frac{\\pi}{2}\\right) + 2 e_{1} h_{1} + e_{1} r_{1} \\cdot \\left(2 + \\pi\\right)\\right) + d g \\left(OB + X_{cl}{\\left(t \\right)}\\right) \\left(e_{2}^{2} \\left(-2 + \\frac{\\pi}{2}\\right) + 2 e_{2} h_{2} + e_{2} r_{2} \\cdot \\left(2 + \\pi\\right)\\right) + d g \\left(OB + X_{cl}{\\left(t \\right)}\\right) \\left(e_{3}^{2} \\left(-2 + \\frac{\\pi}{2}\\right) + 2 e_{3} h_{3} + e_{3} r_{3} \\cdot \\left(2 + \\pi\\right)\\right)\\right)^{2}} + \\frac{\\left(\\frac{d g \\left(OB + X_{cl}{\\left(t \\right)}\\right)^{2} \\left(e_{2}^{2} \\left(-2 + \\frac{\\pi}{2}\\right) + 2 e_{2} h_{2} + e_{2} r_{2} \\cdot \\left(2 + \\pi\\right)\\right) \\cos{\\left(\\operatorname{acos}{\\left(\\frac{D_{1}^{2} + D_{2}^{2} + OB^{2} - X_{cb}^{2}{\\left(t \\right)}}{2 OB \\sqrt{D_{1}^{2} + D_{2}^{2}}} \\right)} - \\operatorname{atan}{\\left(\\frac{D_{2}}{D_{1}} \\right)} \\right)}}{2} + \\frac{d g \\left(OB + X_{cl}{\\left(t \\right)}\\right)^{2} \\left(e_{3}^{2} \\left(-2 + \\frac{\\pi}{2}\\right) + 2 e_{3} h_{3} + e_{3} r_{3} \\cdot \\left(2 + \\pi\\right)\\right) \\cos{\\left(\\operatorname{acos}{\\left(\\frac{D_{1}^{2} + D_{2}^{2} + OB^{2} - X_{cb}^{2}{\\left(t \\right)}}{2 OB \\sqrt{D_{1}^{2} + D_{2}^{2}}} \\right)} - \\operatorname{atan}{\\left(\\frac{D_{2}}{D_{1}} \\right)} \\right)}}{2} + d g \\left(OB + X_{cl}{\\left(t \\right)}\\right) \\left(- \\frac{OB \\cos{\\left(\\operatorname{acos}{\\left(\\frac{D_{1}^{2} + D_{2}^{2} + OB^{2} - X_{cb}^{2}{\\left(t \\right)}}{2 OB \\sqrt{D_{1}^{2} + D_{2}^{2}}} \\right)} - \\operatorname{atan}{\\left(\\frac{D_{2}}{D_{1}} \\right)} \\right)}}{2} + \\left(OB + X_{cl}{\\left(t \\right)}\\right) \\cos{\\left(\\operatorname{acos}{\\left(\\frac{D_{1}^{2} + D_{2}^{2} + OB^{2} - X_{cb}^{2}{\\left(t \\right)}}{2 OB \\sqrt{D_{1}^{2} + D_{2}^{2}}} \\right)} - \\operatorname{atan}{\\left(\\frac{D_{2}}{D_{1}} \\right)} \\right)}\\right) \\left(e_{1}^{2} \\left(-2 + \\frac{\\pi}{2}\\right) + 2 e_{1} h_{1} + e_{1} r_{1} \\cdot \\left(2 + \\pi\\right)\\right)\\right)^{2}}{\\left(d g \\left(OB + X_{cl}{\\left(t \\right)}\\right) \\left(e_{1}^{2} \\left(-2 + \\frac{\\pi}{2}\\right) + 2 e_{1} h_{1} + e_{1} r_{1} \\cdot \\left(2 + \\pi\\right)\\right) + d g \\left(OB + X_{cl}{\\left(t \\right)}\\right) \\left(e_{2}^{2} \\left(-2 + \\frac{\\pi}{2}\\right) + 2 e_{2} h_{2} + e_{2} r_{2} \\cdot \\left(2 + \\pi\\right)\\right) + d g \\left(OB + X_{cl}{\\left(t \\right)}\\right) \\left(e_{3}^{2} \\left(-2 + \\frac{\\pi}{2}\\right) + 2 e_{3} h_{3} + e_{3} r_{3} \\cdot \\left(2 + \\pi\\right)\\right)\\right)^{2}}\\right) \\left(e_{1}^{2} \\left(-2 + \\frac{\\pi}{2}\\right) + 2 e_{1} h_{1} + e_{1} r_{1} \\cdot \\left(2 + \\pi\\right) + e_{2}^{2} \\left(-2 + \\frac{\\pi}{2}\\right) + 2 e_{2} h_{2} + e_{2} r_{2} \\cdot \\left(2 + \\pi\\right) + e_{3}^{2} \\left(-2 + \\frac{\\pi}{2}\\right) + 2 e_{3} h_{3} + e_{3} r_{3} \\cdot \\left(2 + \\pi\\right)\\right)$"
          },
          "metadata": {}
        }
      ]
    },
    {
      "cell_type": "markdown",
      "source": [
        "##### Duas lanças se estendendo"
      ],
      "metadata": {
        "id": "mKL36lb5pPof"
      }
    },
    {
      "cell_type": "code",
      "source": [
        "CGx, CGy = positionOfCG(EstadoDasLancas.DUAS_ESTENDENDO)\n",
        "display(massInertia(CGx, CGy))"
      ],
      "metadata": {
        "colab": {
          "base_uri": "https://localhost:8080/",
          "height": 243
        },
        "outputId": "c77c1169-a75e-415a-9e05-8bf25d181f06",
        "id": "hi6h0iZApPog"
      },
      "execution_count": null,
      "outputs": [
        {
          "output_type": "display_data",
          "data": {
            "text/plain": [
              "d*(OB + X_cl(t))**3*(e_1**2*(-2 + pi/2) + 2*e_1*h_1 + e_1*r_1*(2 + pi) + e_2**2*(-2 + pi/2) + 2*e_2*h_2 + e_2*r_2*(2 + pi) + e_3**2*(-2 + pi/2) + 2*e_3*h_3 + e_3*r_3*(2 + pi)) + d*(OB + X_cl(t))*((d*g*(OB + X_cl(t))**2*(e_3**2*(-2 + pi/2) + 2*e_3*h_3 + e_3*r_3*(2 + pi))*sin(acos((D_1**2 + D_2**2 + OB**2 - X_cb(t)**2)/(2*OB*sqrt(D_1**2 + D_2**2))) - atan(D_2/D_1))/2 + d*g*(OB + X_cl(t))*(-3*OB*sin(acos((D_1**2 + D_2**2 + OB**2 - X_cb(t)**2)/(2*OB*sqrt(D_1**2 + D_2**2))) - atan(D_2/D_1))/4 + (OB + X_cl(t))*sin(acos((D_1**2 + D_2**2 + OB**2 - X_cb(t)**2)/(2*OB*sqrt(D_1**2 + D_2**2))) - atan(D_2/D_1)))*(e_1**2*(-2 + pi/2) + 2*e_1*h_1 + e_1*r_1*(2 + pi)) + d*g*(OB + X_cl(t))*(-OB*sin(acos((D_1**2 + D_2**2 + OB**2 - X_cb(t)**2)/(2*OB*sqrt(D_1**2 + D_2**2))) - atan(D_2/D_1))/4 + (OB + X_cl(t))*sin(acos((D_1**2 + D_2**2 + OB**2 - X_cb(t)**2)/(2*OB*sqrt(D_1**2 + D_2**2))) - atan(D_2/D_1)))*(e_2**2*(-2 + pi/2) + 2*e_2*h_2 + e_2*r_2*(2 + pi)))**2/(d*g*(OB + X_cl(t))*(e_1**2*(-2 + pi/2) + 2*e_1*h_1 + e_1*r_1*(2 + pi)) + d*g*(OB + X_cl(t))*(e_2**2*(-2 + pi/2) + 2*e_2*h_2 + e_2*r_2*(2 + pi)) + d*g*(OB + X_cl(t))*(e_3**2*(-2 + pi/2) + 2*e_3*h_3 + e_3*r_3*(2 + pi)))**2 + (d*g*(OB + X_cl(t))**2*(e_3**2*(-2 + pi/2) + 2*e_3*h_3 + e_3*r_3*(2 + pi))*cos(acos((D_1**2 + D_2**2 + OB**2 - X_cb(t)**2)/(2*OB*sqrt(D_1**2 + D_2**2))) - atan(D_2/D_1))/2 + d*g*(OB + X_cl(t))*(-3*OB*cos(acos((D_1**2 + D_2**2 + OB**2 - X_cb(t)**2)/(2*OB*sqrt(D_1**2 + D_2**2))) - atan(D_2/D_1))/4 + (OB + X_cl(t))*cos(acos((D_1**2 + D_2**2 + OB**2 - X_cb(t)**2)/(2*OB*sqrt(D_1**2 + D_2**2))) - atan(D_2/D_1)))*(e_1**2*(-2 + pi/2) + 2*e_1*h_1 + e_1*r_1*(2 + pi)) + d*g*(OB + X_cl(t))*(-OB*cos(acos((D_1**2 + D_2**2 + OB**2 - X_cb(t)**2)/(2*OB*sqrt(D_1**2 + D_2**2))) - atan(D_2/D_1))/4 + (OB + X_cl(t))*cos(acos((D_1**2 + D_2**2 + OB**2 - X_cb(t)**2)/(2*OB*sqrt(D_1**2 + D_2**2))) - atan(D_2/D_1)))*(e_2**2*(-2 + pi/2) + 2*e_2*h_2 + e_2*r_2*(2 + pi)))**2/(d*g*(OB + X_cl(t))*(e_1**2*(-2 + pi/2) + 2*e_1*h_1 + e_1*r_1*(2 + pi)) + d*g*(OB + X_cl(t))*(e_2**2*(-2 + pi/2) + 2*e_2*h_2 + e_2*r_2*(2 + pi)) + d*g*(OB + X_cl(t))*(e_3**2*(-2 + pi/2) + 2*e_3*h_3 + e_3*r_3*(2 + pi)))**2)*(e_1**2*(-2 + pi/2) + 2*e_1*h_1 + e_1*r_1*(2 + pi) + e_2**2*(-2 + pi/2) + 2*e_2*h_2 + e_2*r_2*(2 + pi) + e_3**2*(-2 + pi/2) + 2*e_3*h_3 + e_3*r_3*(2 + pi))"
            ],
            "text/latex": "$\\displaystyle d \\left(OB + X_{cl}{\\left(t \\right)}\\right)^{3} \\left(e_{1}^{2} \\left(-2 + \\frac{\\pi}{2}\\right) + 2 e_{1} h_{1} + e_{1} r_{1} \\cdot \\left(2 + \\pi\\right) + e_{2}^{2} \\left(-2 + \\frac{\\pi}{2}\\right) + 2 e_{2} h_{2} + e_{2} r_{2} \\cdot \\left(2 + \\pi\\right) + e_{3}^{2} \\left(-2 + \\frac{\\pi}{2}\\right) + 2 e_{3} h_{3} + e_{3} r_{3} \\cdot \\left(2 + \\pi\\right)\\right) + d \\left(OB + X_{cl}{\\left(t \\right)}\\right) \\left(\\frac{\\left(\\frac{d g \\left(OB + X_{cl}{\\left(t \\right)}\\right)^{2} \\left(e_{3}^{2} \\left(-2 + \\frac{\\pi}{2}\\right) + 2 e_{3} h_{3} + e_{3} r_{3} \\cdot \\left(2 + \\pi\\right)\\right) \\sin{\\left(\\operatorname{acos}{\\left(\\frac{D_{1}^{2} + D_{2}^{2} + OB^{2} - X_{cb}^{2}{\\left(t \\right)}}{2 OB \\sqrt{D_{1}^{2} + D_{2}^{2}}} \\right)} - \\operatorname{atan}{\\left(\\frac{D_{2}}{D_{1}} \\right)} \\right)}}{2} + d g \\left(OB + X_{cl}{\\left(t \\right)}\\right) \\left(- \\frac{3 OB \\sin{\\left(\\operatorname{acos}{\\left(\\frac{D_{1}^{2} + D_{2}^{2} + OB^{2} - X_{cb}^{2}{\\left(t \\right)}}{2 OB \\sqrt{D_{1}^{2} + D_{2}^{2}}} \\right)} - \\operatorname{atan}{\\left(\\frac{D_{2}}{D_{1}} \\right)} \\right)}}{4} + \\left(OB + X_{cl}{\\left(t \\right)}\\right) \\sin{\\left(\\operatorname{acos}{\\left(\\frac{D_{1}^{2} + D_{2}^{2} + OB^{2} - X_{cb}^{2}{\\left(t \\right)}}{2 OB \\sqrt{D_{1}^{2} + D_{2}^{2}}} \\right)} - \\operatorname{atan}{\\left(\\frac{D_{2}}{D_{1}} \\right)} \\right)}\\right) \\left(e_{1}^{2} \\left(-2 + \\frac{\\pi}{2}\\right) + 2 e_{1} h_{1} + e_{1} r_{1} \\cdot \\left(2 + \\pi\\right)\\right) + d g \\left(OB + X_{cl}{\\left(t \\right)}\\right) \\left(- \\frac{OB \\sin{\\left(\\operatorname{acos}{\\left(\\frac{D_{1}^{2} + D_{2}^{2} + OB^{2} - X_{cb}^{2}{\\left(t \\right)}}{2 OB \\sqrt{D_{1}^{2} + D_{2}^{2}}} \\right)} - \\operatorname{atan}{\\left(\\frac{D_{2}}{D_{1}} \\right)} \\right)}}{4} + \\left(OB + X_{cl}{\\left(t \\right)}\\right) \\sin{\\left(\\operatorname{acos}{\\left(\\frac{D_{1}^{2} + D_{2}^{2} + OB^{2} - X_{cb}^{2}{\\left(t \\right)}}{2 OB \\sqrt{D_{1}^{2} + D_{2}^{2}}} \\right)} - \\operatorname{atan}{\\left(\\frac{D_{2}}{D_{1}} \\right)} \\right)}\\right) \\left(e_{2}^{2} \\left(-2 + \\frac{\\pi}{2}\\right) + 2 e_{2} h_{2} + e_{2} r_{2} \\cdot \\left(2 + \\pi\\right)\\right)\\right)^{2}}{\\left(d g \\left(OB + X_{cl}{\\left(t \\right)}\\right) \\left(e_{1}^{2} \\left(-2 + \\frac{\\pi}{2}\\right) + 2 e_{1} h_{1} + e_{1} r_{1} \\cdot \\left(2 + \\pi\\right)\\right) + d g \\left(OB + X_{cl}{\\left(t \\right)}\\right) \\left(e_{2}^{2} \\left(-2 + \\frac{\\pi}{2}\\right) + 2 e_{2} h_{2} + e_{2} r_{2} \\cdot \\left(2 + \\pi\\right)\\right) + d g \\left(OB + X_{cl}{\\left(t \\right)}\\right) \\left(e_{3}^{2} \\left(-2 + \\frac{\\pi}{2}\\right) + 2 e_{3} h_{3} + e_{3} r_{3} \\cdot \\left(2 + \\pi\\right)\\right)\\right)^{2}} + \\frac{\\left(\\frac{d g \\left(OB + X_{cl}{\\left(t \\right)}\\right)^{2} \\left(e_{3}^{2} \\left(-2 + \\frac{\\pi}{2}\\right) + 2 e_{3} h_{3} + e_{3} r_{3} \\cdot \\left(2 + \\pi\\right)\\right) \\cos{\\left(\\operatorname{acos}{\\left(\\frac{D_{1}^{2} + D_{2}^{2} + OB^{2} - X_{cb}^{2}{\\left(t \\right)}}{2 OB \\sqrt{D_{1}^{2} + D_{2}^{2}}} \\right)} - \\operatorname{atan}{\\left(\\frac{D_{2}}{D_{1}} \\right)} \\right)}}{2} + d g \\left(OB + X_{cl}{\\left(t \\right)}\\right) \\left(- \\frac{3 OB \\cos{\\left(\\operatorname{acos}{\\left(\\frac{D_{1}^{2} + D_{2}^{2} + OB^{2} - X_{cb}^{2}{\\left(t \\right)}}{2 OB \\sqrt{D_{1}^{2} + D_{2}^{2}}} \\right)} - \\operatorname{atan}{\\left(\\frac{D_{2}}{D_{1}} \\right)} \\right)}}{4} + \\left(OB + X_{cl}{\\left(t \\right)}\\right) \\cos{\\left(\\operatorname{acos}{\\left(\\frac{D_{1}^{2} + D_{2}^{2} + OB^{2} - X_{cb}^{2}{\\left(t \\right)}}{2 OB \\sqrt{D_{1}^{2} + D_{2}^{2}}} \\right)} - \\operatorname{atan}{\\left(\\frac{D_{2}}{D_{1}} \\right)} \\right)}\\right) \\left(e_{1}^{2} \\left(-2 + \\frac{\\pi}{2}\\right) + 2 e_{1} h_{1} + e_{1} r_{1} \\cdot \\left(2 + \\pi\\right)\\right) + d g \\left(OB + X_{cl}{\\left(t \\right)}\\right) \\left(- \\frac{OB \\cos{\\left(\\operatorname{acos}{\\left(\\frac{D_{1}^{2} + D_{2}^{2} + OB^{2} - X_{cb}^{2}{\\left(t \\right)}}{2 OB \\sqrt{D_{1}^{2} + D_{2}^{2}}} \\right)} - \\operatorname{atan}{\\left(\\frac{D_{2}}{D_{1}} \\right)} \\right)}}{4} + \\left(OB + X_{cl}{\\left(t \\right)}\\right) \\cos{\\left(\\operatorname{acos}{\\left(\\frac{D_{1}^{2} + D_{2}^{2} + OB^{2} - X_{cb}^{2}{\\left(t \\right)}}{2 OB \\sqrt{D_{1}^{2} + D_{2}^{2}}} \\right)} - \\operatorname{atan}{\\left(\\frac{D_{2}}{D_{1}} \\right)} \\right)}\\right) \\left(e_{2}^{2} \\left(-2 + \\frac{\\pi}{2}\\right) + 2 e_{2} h_{2} + e_{2} r_{2} \\cdot \\left(2 + \\pi\\right)\\right)\\right)^{2}}{\\left(d g \\left(OB + X_{cl}{\\left(t \\right)}\\right) \\left(e_{1}^{2} \\left(-2 + \\frac{\\pi}{2}\\right) + 2 e_{1} h_{1} + e_{1} r_{1} \\cdot \\left(2 + \\pi\\right)\\right) + d g \\left(OB + X_{cl}{\\left(t \\right)}\\right) \\left(e_{2}^{2} \\left(-2 + \\frac{\\pi}{2}\\right) + 2 e_{2} h_{2} + e_{2} r_{2} \\cdot \\left(2 + \\pi\\right)\\right) + d g \\left(OB + X_{cl}{\\left(t \\right)}\\right) \\left(e_{3}^{2} \\left(-2 + \\frac{\\pi}{2}\\right) + 2 e_{3} h_{3} + e_{3} r_{3} \\cdot \\left(2 + \\pi\\right)\\right)\\right)^{2}}\\right) \\left(e_{1}^{2} \\left(-2 + \\frac{\\pi}{2}\\right) + 2 e_{1} h_{1} + e_{1} r_{1} \\cdot \\left(2 + \\pi\\right) + e_{2}^{2} \\left(-2 + \\frac{\\pi}{2}\\right) + 2 e_{2} h_{2} + e_{2} r_{2} \\cdot \\left(2 + \\pi\\right) + e_{3}^{2} \\left(-2 + \\frac{\\pi}{2}\\right) + 2 e_{3} h_{3} + e_{3} r_{3} \\cdot \\left(2 + \\pi\\right)\\right)$"
          },
          "metadata": {}
        }
      ]
    },
    {
      "cell_type": "markdown",
      "source": [
        "## Esforços"
      ],
      "metadata": {
        "id": "T1FRhLzLZqQt"
      }
    },
    {
      "cell_type": "code",
      "source": [
        "M = symbols('M')\n",
        "CG_x = symbols('CG_x')\n",
        "Pt = P1 + P2 + P3\n",
        "\n",
        "Fmax = (M - Pt*CG_x)/Xc\n",
        "\n",
        "display(Fmax)"
      ],
      "metadata": {
        "colab": {
          "base_uri": "https://localhost:8080/",
          "height": 83
        },
        "id": "mi41UYaIVqif",
        "outputId": "1ba094c8-3b75-441d-a304-164f111c6e99"
      },
      "execution_count": null,
      "outputs": [
        {
          "output_type": "display_data",
          "data": {
            "text/plain": [
              "(-CG_x*(d*g*(OB + X_cl(t))*(e_1**2*(-2 + pi/2) + 2*e_1*h_1 + e_1*r_1*(2 + pi)) + d*g*(OB + X_cl(t))*(e_2**2*(-2 + pi/2) + 2*e_2*h_2 + e_2*r_2*(2 + pi)) + d*g*(OB + X_cl(t))*(e_3**2*(-2 + pi/2) + 2*e_3*h_3 + e_3*r_3*(2 + pi))) + M)/((OB + X_cl(t))*cos(acos((D_1**2 + D_2**2 + OB**2 - X_cb(t)**2)/(2*OB*sqrt(D_1**2 + D_2**2))) - atan(D_2/D_1)))"
            ],
            "text/latex": "$\\displaystyle \\frac{- CG_{x} \\left(d g \\left(OB + X_{cl}{\\left(t \\right)}\\right) \\left(e_{1}^{2} \\left(-2 + \\frac{\\pi}{2}\\right) + 2 e_{1} h_{1} + e_{1} r_{1} \\cdot \\left(2 + \\pi\\right)\\right) + d g \\left(OB + X_{cl}{\\left(t \\right)}\\right) \\left(e_{2}^{2} \\left(-2 + \\frac{\\pi}{2}\\right) + 2 e_{2} h_{2} + e_{2} r_{2} \\cdot \\left(2 + \\pi\\right)\\right) + d g \\left(OB + X_{cl}{\\left(t \\right)}\\right) \\left(e_{3}^{2} \\left(-2 + \\frac{\\pi}{2}\\right) + 2 e_{3} h_{3} + e_{3} r_{3} \\cdot \\left(2 + \\pi\\right)\\right)\\right) + M}{\\left(OB + X_{cl}{\\left(t \\right)}\\right) \\cos{\\left(\\operatorname{acos}{\\left(\\frac{D_{1}^{2} + D_{2}^{2} + OB^{2} - X_{cb}^{2}{\\left(t \\right)}}{2 OB \\sqrt{D_{1}^{2} + D_{2}^{2}}} \\right)} - \\operatorname{atan}{\\left(\\frac{D_{2}}{D_{1}} \\right)} \\right)}}$"
          },
          "metadata": {}
        }
      ]
    },
    {
      "cell_type": "markdown",
      "source": [
        "# **Plotagem de gráficos**"
      ],
      "metadata": {
        "id": "tkdKJ2BLWoKQ"
      }
    },
    {
      "cell_type": "markdown",
      "source": [
        "## Uso geral"
      ],
      "metadata": {
        "id": "CSS0OflI2QNK"
      }
    },
    {
      "cell_type": "markdown",
      "source": [
        "### Valores"
      ],
      "metadata": {
        "id": "Eg7LGqg03S7g"
      }
    },
    {
      "cell_type": "code",
      "source": [
        "Xcl_min = 17\n",
        "Xcl_max = 34\n",
        "\n",
        "Xcb_min = 11.18\n",
        "Xcb_max = 21.19\n",
        "\n",
        "Xcl_arbitrary = 25\n",
        "Xcb_arbitrary = 16\n",
        "\n",
        "sample_size = 100\n",
        "Xcl_values = np.linspace(Xcl_min, Xcl_max, sample_size)\n",
        "Xcb_values = np.linspace(Xcb_min, Xcb_max, sample_size)\n",
        "\n",
        "valorD1, valorD2, valorOB, valorXcl, valorXcb = 7, 2, 18, 17, 21.19"
      ],
      "metadata": {
        "id": "hQO07msh2y92"
      },
      "execution_count": null,
      "outputs": []
    },
    {
      "cell_type": "markdown",
      "source": [
        "### Funções para plotar gráficos"
      ],
      "metadata": {
        "id": "N_IzFVvP3QJp"
      }
    },
    {
      "cell_type": "code",
      "source": [
        "class Variable(Enum):\n",
        "  Xcl = 1\n",
        "  Xcb = 2\n",
        "\n",
        "def coordinatesThroughCallback(data, fixed, callback, variable, args = []):\n",
        "  x_results, y_results = [], []\n",
        "  for value in data:\n",
        "    match variable:\n",
        "      case Variable.Xcl:\n",
        "       x, y = callback(value, fixed, *args)\n",
        "      case Variable.Xcb:\n",
        "       x, y = callback(fixed, value, *args)\n",
        "\n",
        "    x_results.append(x)\n",
        "    y_results.append(y)\n",
        "\n",
        "  return x_results, y_results\n",
        "\n",
        "def valuesThroughCallback(data, fixed, callback, variable):\n",
        "  results = []\n",
        "  for value in data:\n",
        "    match variable:\n",
        "      case Variable.Xcl:\n",
        "        results.append(callback(value, fixed))\n",
        "      case Variable.Xcb:\n",
        "        results.append(callback(fixed, value))\n",
        "\n",
        "  return results\n",
        "\n",
        "def customPlot(vectorX, vectorY, title, xlabel = 'X (m)', ylabel = 'Y (m)', xlim = (-1, 60), ylim = (-1, 60)):\n",
        "  plt.xlim(xlim[0], xlim[1])\n",
        "  plt.ylim(ylim[0], ylim[1])\n",
        "  plt.gca().set_ylabel(ylabel, rotation=0, fontsize=10, labelpad=20)\n",
        "  plt.gca().set_xlabel(xlabel)\n",
        "  plt.title(title)\n",
        "  plt.plot(vectorX, vectorY)\n",
        "  plt.show()\n",
        "\n",
        "def customDoublePlot(vectorX, vectorY1, vectorY2, labelY1: str, labelY2: str, title, xlabel, ylabel):\n",
        "  plt.gca().set_ylabel(ylabel, rotation=0, fontsize=10, labelpad=20)\n",
        "  plt.gca().set_xlabel(xlabel)\n",
        "  plt.title(title)\n",
        "  plt.plot(vectorX, vectorY1, label = labelY1, linestyle = 'dashed')\n",
        "  plt.plot(vectorX, vectorY2, label = labelY2, linestyle = 'dashed')\n",
        "  plt.legend()\n",
        "  plt.show()"
      ],
      "metadata": {
        "id": "C8d87Enw3QJy"
      },
      "execution_count": null,
      "outputs": []
    },
    {
      "cell_type": "markdown",
      "source": [
        "## Cinemática"
      ],
      "metadata": {
        "id": "MtZ2cQGJ2UlB"
      }
    },
    {
      "cell_type": "markdown",
      "source": [
        "### Valores/Constantes"
      ],
      "metadata": {
        "id": "tRT1PYeFX3Bi"
      }
    },
    {
      "cell_type": "code",
      "source": [
        "valorOA = np.sqrt(valorD1**2 + valorD2**2)"
      ],
      "metadata": {
        "id": "9QyUgygrX3Bt"
      },
      "execution_count": null,
      "outputs": []
    },
    {
      "cell_type": "markdown",
      "source": [
        "### Funções para plotar gráficos"
      ],
      "metadata": {
        "id": "ljma-x8O-_Mr"
      }
    },
    {
      "cell_type": "code",
      "source": [
        "def positionOfC(Xcl_v, Xcb_v):\n",
        "  Xc_result = Xc.subs({Xcl: Xcl_v, Xcb: Xcb_v, D1: valorD1, D2: valorD2, OB: valorOB})\n",
        "  Yc_result = Yc.subs({Xcl: Xcl_v, Xcb: Xcb_v, D1: valorD1, D2: valorD2, OB: valorOB})\n",
        "  return Xc_result, Yc_result\n",
        "\n",
        "def speedOfC(Xcl_value, Xcb_value, Vcl, Vcb):\n",
        "  dXc_result = dXc.subs({Xcl: Xcl_value, Xcb: Xcb_value, Derivative(Xcl, t): Vcl, Derivative(Xcb, t): Vcb, D1: valorD1, D2: valorD2, OB: valorOB})\n",
        "  dYc_result = dYc.subs({Xcl: Xcl_value, Xcb: Xcb_value, Derivative(Xcl, t): Vcl, Derivative(Xcb, t): Vcb, D1: valorD1, D2: valorD2, OB: valorOB})\n",
        "  return dXc_result, dYc_result\n",
        "\n",
        "def accelerationOfC(Xcl_value, Xcb_value, Vcl, Vcb, Acl, Acb):\n",
        "  values = {Xcl: Xcl_value, Xcb: Xcb_value, Derivative(Xcl, t): Vcl, Derivative(Xcb, t): Vcb, Derivative(Xcl, t, t): Acl, Derivative(Xcb, t, t): Acb, D1: valorD1, D2: valorD2, OB: valorOB}\n",
        "  ddXc_result = ddXc.subs(values)\n",
        "  ddYc_result = ddYc.subs(values)\n",
        "  return ddXc_result, ddYc_result\n",
        "\n",
        "def customPlot(vectorX, vectorY, title, xlabel = 'X (m)', ylabel = 'Y (m)', xlim = (-1, 60), ylim = (-1, 60)):\n",
        "  plt.xlim(xlim[0], xlim[1])\n",
        "  plt.ylim(ylim[0], ylim[1])\n",
        "  plt.gca().set_ylabel(ylabel, rotation=0, fontsize=10, labelpad=20)\n",
        "  plt.gca().set_xlabel(xlabel)\n",
        "  plt.title(title)\n",
        "  plt.plot(vectorX, vectorY)\n",
        "  plt.show()\n",
        "\n",
        "def customDoublePlot(vectorX, vectorY1, vectorY2, labelY1: str, labelY2: str, title, xlabel, ylabel):\n",
        "  plt.gca().set_ylabel(ylabel, rotation=0, fontsize=10, labelpad=20)\n",
        "  plt.gca().set_xlabel(xlabel)\n",
        "  plt.title(title)\n",
        "  plt.plot(vectorX, vectorY1, label = labelY1, linestyle = 'dashed')\n",
        "  plt.plot(vectorX, vectorY2, label = labelY2, linestyle = 'dashed')\n",
        "  plt.legend()\n",
        "  plt.show()\n"
      ],
      "metadata": {
        "id": "5YAO3VZl3lHS"
      },
      "execution_count": null,
      "outputs": []
    },
    {
      "cell_type": "markdown",
      "source": [
        "### Gráficos de posição"
      ],
      "metadata": {
        "id": "qP0xtqzIXzxd"
      }
    },
    {
      "cell_type": "code",
      "source": [
        "# variando OC\n",
        "Xc_coordinates, Yc_coordinates = coordinatesThroughCallback(Xcl_values, Xcb_arbitrary, positionOfC, Variable.Xcl)\n",
        "customPlot(Xc_coordinates, Yc_coordinates, 'Posição do ponto C com AB fixo', ylim = (Xcl_min + valorOB - 5, Xcl_max + valorOB + 5))\n",
        "\n",
        "# variando AB\n",
        "Xc_coordinates, Yc_coordinates = coordinatesThroughCallback(Xcb_values, Xcl_arbitrary, positionOfC, Variable.Xcb)\n",
        "customPlot(Xc_coordinates, Yc_coordinates, 'Posição do ponto C com OC fixo', ylim = (-1, Xcl_max + valorOB), xlim = (-1, Xcl_max + valorOB))\n"
      ],
      "metadata": {
        "colab": {
          "base_uri": "https://localhost:8080/",
          "height": 927
        },
        "id": "FPzWM6XMXu43",
        "outputId": "494cf746-7a9d-4918-d44c-3266bbd484ff"
      },
      "execution_count": null,
      "outputs": [
        {
          "output_type": "display_data",
          "data": {
            "text/plain": [
              "<Figure size 640x480 with 1 Axes>"
            ],
            "image/png": "[encoded data removed]"
          },
          "metadata": {}
        },
        {
          "output_type": "display_data",
          "data": {
            "text/plain": [
              "<Figure size 640x480 with 1 Axes>"
            ],
            "image/png": "[encoded data removed]"
          },
          "metadata": {}
        }
      ]
    },
    {
      "cell_type": "markdown",
      "source": [
        "### Gráficos de velocidade"
      ],
      "metadata": {
        "id": "FHFvX5o7h_Gi"
      }
    },
    {
      "cell_type": "code",
      "source": [
        "# variando OC\n",
        "C_x_speed, C_y_speed = coordinatesThroughCallback(Xcl_values, Xcb_min, speedOfC, Variable.Xcl, [1, 0])\n",
        "customDoublePlot(Xcl_values, C_x_speed, C_y_speed, 'Vx (m/s)', 'Vy (m/s)', 'Velocidade do ponto C com AB fixo', 'Xcl (m)', 'Vel')\n",
        "\n",
        "# variando AB\n",
        "C_x_speed, C_y_speed = coordinatesThroughCallback(Xcb_values, Xcl_min, speedOfC, Variable.Xcb, [0, 1])\n",
        "customDoublePlot(Xcb_values, C_x_speed, C_y_speed, 'Vx (m/s)', 'Vy (m/s)', 'Velocidade do ponto C com OC fixo', 'Xcb (m)', 'Vel')"
      ],
      "metadata": {
        "colab": {
          "base_uri": "https://localhost:8080/",
          "height": 927
        },
        "id": "L9VBBZFtiEFP",
        "outputId": "009507fc-e4e9-4ba1-b3a4-6d8a0384acfb"
      },
      "execution_count": null,
      "outputs": [
        {
          "output_type": "display_data",
          "data": {
            "text/plain": [
              "<Figure size 640x480 with 1 Axes>"
            ],
            "image/png": "[encoded data removed]"
          },
          "metadata": {}
        },
        {
          "output_type": "display_data",
          "data": {
            "text/plain": [
              "<Figure size 640x480 with 1 Axes>"
            ],
            "image/png": "[encoded data removed]"
          },
          "metadata": {}
        }
      ]
    },
    {
      "cell_type": "markdown",
      "source": [
        "### Gráficos de Aceleração"
      ],
      "metadata": {
        "id": "PeCGuXNriEi6"
      }
    },
    {
      "cell_type": "code",
      "source": [
        "# variando OC\n",
        "C_x_acceleration, C_y_acceleration = coordinatesThroughCallback(Xcl_values, Xcb_min, accelerationOfC, Variable.Xcl, [1, 0, 0, 0])\n",
        "customDoublePlot(Xcl_values, C_x_acceleration, C_y_acceleration, 'Ax (m/s²)', 'Ay (m/s²)', 'Aceleração do ponto C com AB fixo', 'Xcl (m)', 'Acc')\n",
        "\n",
        "# variando AB\n",
        "C_x_acceleration, C_y_acceleration = coordinatesThroughCallback(Xcb_values, Xcl_min, accelerationOfC, Variable.Xcb, [0, 1, 0, 0])\n",
        "customDoublePlot(Xcb_values, C_x_acceleration, C_y_acceleration, 'Ax (m/s²)', 'Ay (m/s²)', 'Aceleração do ponto C com OC fixo', 'Xcb (m)', 'Acc')"
      ],
      "metadata": {
        "id": "omIYbXtZiEsS",
        "colab": {
          "base_uri": "https://localhost:8080/",
          "height": 927
        },
        "outputId": "7f46ed46-69c1-4b9e-c2d1-e4409195535b"
      },
      "execution_count": null,
      "outputs": [
        {
          "output_type": "display_data",
          "data": {
            "text/plain": [
              "<Figure size 640x480 with 1 Axes>"
            ],
            "image/png": "[encoded data removed]"
          },
          "metadata": {}
        },
        {
          "output_type": "display_data",
          "data": {
            "text/plain": [
              "<Figure size 640x480 with 1 Axes>"
            ],
            "image/png": "[encoded data removed]"
          },
          "metadata": {}
        }
      ]
    },
    {
      "cell_type": "markdown",
      "source": [
        "## CG e inércia"
      ],
      "metadata": {
        "id": "4vCQ3goI2gyq"
      }
    },
    {
      "cell_type": "markdown",
      "source": [
        "### Valores/Constantes"
      ],
      "metadata": {
        "id": "ruyHRrXF2gy0"
      }
    },
    {
      "cell_type": "code",
      "source": [
        "massa_especifica_valor = # COLOCAR VALOR\n",
        "\n",
        "g_valor = # COLOCAR VALOR\n",
        "\n",
        "r1_valor = # COLOCAR VALOR\n",
        "e1_valor = # COLOCAR VALOR\n",
        "h1_valor = # COLOCAR VALOR\n",
        "\n",
        "r2_valor = # COLOCAR VALOR\n",
        "e2_valor = # COLOCAR VALOR\n",
        "h2_valor = # COLOCAR VALOR\n",
        "\n",
        "r3_valor = # COLOCAR VALOR\n",
        "e3_valor = # COLOCAR VALOR\n",
        "h3_valor = # COLOCAR VALOR"
      ],
      "metadata": {
        "colab": {
          "base_uri": "https://localhost:8080/",
          "height": 106
        },
        "id": "N2hGN9KA2gy0",
        "outputId": "a6c76397-555d-4007-f04b-2138e48b5d02"
      },
      "execution_count": null,
      "outputs": [
        {
          "output_type": "error",
          "ename": "SyntaxError",
          "evalue": "invalid syntax (<ipython-input-69-05e29147b451>, line 1)",
          "traceback": [
            "\u001b[0;36m  File \u001b[0;32m\"<ipython-input-69-05e29147b451>\"\u001b[0;36m, line \u001b[0;32m1\u001b[0m\n\u001b[0;31m    massa_especifica_valor = # COLOCAR VALOR\u001b[0m\n\u001b[0m                             ^\u001b[0m\n\u001b[0;31mSyntaxError\u001b[0m\u001b[0;31m:\u001b[0m invalid syntax\n"
          ]
        }
      ]
    },
    {
      "cell_type": "markdown",
      "source": [
        "### Funções para plotar gráficos"
      ],
      "metadata": {
        "id": "E29OIwtJ2gy0"
      }
    },
    {
      "cell_type": "code",
      "source": [
        "def calculateCG(Xcl_value, Xcb_value):\n",
        "  x, y = positionOfCG(Xcl, OC)\n",
        "  values = {\n",
        "      Xcl: Xcl_value,\n",
        "      Xcb: Xcb_value,\n",
        "      D1: valorD1,\n",
        "      D2: valorD2,\n",
        "      OB: valorOB,\n",
        "      massa_especifica: massa_especifica_valor,\n",
        "      g: g_valor,\n",
        "      r_1: r1_valor,\n",
        "      r_2: r2_valor,\n",
        "      r_3: r3_valor,\n",
        "      e_1: e1_valor,\n",
        "      e_2: e2_valor,\n",
        "      e_3: e3_valor,\n",
        "      h_1: h1_valor,\n",
        "      h_2: h2_valor,\n",
        "      h_3: h3_valor\n",
        "  }\n",
        "  x_result = x.subs(values)\n",
        "  y_result = y.subs(values)\n",
        "  return x_result, y_result\n",
        "\n",
        "def calculateMassInertia(Xcl_value, Xcb_value):\n",
        "  X_cg, Y_cg = calculateCG(Xcl_value, Xcb_value)\n",
        "\n",
        "  return massInertia(X_cg, Y_cg).subs({\n",
        "    r_1: r1_valor,\n",
        "    e_1: e1_valor,\n",
        "    h_1: h1_valor,\n",
        "    r_2: r2_valor,\n",
        "    e_2: e2_valor,\n",
        "    h_2: h2_valor,\n",
        "    r_3: r3_valor,\n",
        "    e_3: e3_valor,\n",
        "    h_3: h3_valor,\n",
        "    Xcl: Xcl_value\n",
        "  })"
      ],
      "metadata": {
        "id": "K4rHg0Jr2gy0"
      },
      "execution_count": null,
      "outputs": []
    },
    {
      "cell_type": "markdown",
      "source": [
        "### Gráfico do CG"
      ],
      "metadata": {
        "id": "T518vJ0G2gy0"
      }
    },
    {
      "cell_type": "code",
      "source": [
        "# variando OC\n",
        "X_OC_variavel, Y_OC_variavel = coordinatesThroughCallback(Xcl_values, Xcb_min, calculateCG, Variable.Xcl)\n",
        "customPlot(X_OC_variavel, Y_OC_variavel, 'Posição do CG com AB fixo', ylim = (-1, Xcl_max + valorOB), xlim = (-1, Xcl_max + valorOB))\n",
        "\n",
        "# variando AB\n",
        "X_AB_variavel, Y_AB_variavel = coordinatesThroughCallback(Xcl_min, Xcb_values, calculateCG, Variable.Xcb)\n",
        "customPlot(X_AB_variavel, Y_AB_variavel, 'Posição do CG com OC fixo', ylim = (-1, Xcl_max + valorOB), xlim = (-1, Xcl_max + valorOB))\n"
      ],
      "metadata": {
        "id": "2dvMYxde2gy0"
      },
      "execution_count": null,
      "outputs": []
    },
    {
      "cell_type": "markdown",
      "source": [
        "### Gráfico da inércia"
      ],
      "metadata": {
        "id": "n7Bd18-QJUkN"
      }
    },
    {
      "cell_type": "code",
      "source": [
        "# variando OC\n",
        "mass_inertia_values = valuesThroughCallback(Xcl_values, Xcb_min, calculateMassInertia, Variable.Xcl)\n",
        "customPlot(Xcl_values, mass_inertia_values, 'Momento de inércia com AB fixo', ylim = (0, mass_inertia_values[sample_size - 1] + 100), xlim = (-1, Xcl_max + valorOB))\n",
        "\n",
        "# variando AB\n",
        "mass_inertia_values = valuesThroughCallback(Xcl_min, Xcb_values, calculateMassInertia, Variable.Xcb)\n",
        "customPlot(Xcb_values, mass_inertia_values, 'Momento de inércia com OC fixo', ylim = (0, mass_inertia_values[sample_size - 1] + 100), xlim = (-1, Xcb_max + 10))"
      ],
      "metadata": {
        "id": "AcoZcWIkJUkX"
      },
      "execution_count": null,
      "outputs": []
    },
    {
      "cell_type": "markdown",
      "source": [
        "## Esforços"
      ],
      "metadata": {
        "id": "2U-W8vNy2h-2"
      }
    },
    {
      "cell_type": "markdown",
      "source": [
        "### Valores/Constantes"
      ],
      "metadata": {
        "id": "x6p0mt2_2h-3"
      }
    },
    {
      "cell_type": "code",
      "source": [
        "# Momento resistente da base do guindaste (N.m) teste\n",
        "M = 10E3"
      ],
      "metadata": {
        "id": "Rl8dER7c2h-3"
      },
      "execution_count": null,
      "outputs": []
    },
    {
      "cell_type": "markdown",
      "source": [
        "### Funções para plotar gráficos"
      ],
      "metadata": {
        "id": "aqhBFN6O2h-3"
      }
    },
    {
      "cell_type": "code",
      "source": [
        "def calculateFmax(Xcl_value, Xcb_value):\n",
        "  general_values = {\n",
        "      D1: valorD1,\n",
        "      D2: valorD2,\n",
        "      OB: valorOB,\n",
        "      massa_especifica: massa_especifica_valor,\n",
        "      g: g_valor,\n",
        "      r_1: r1_valor,\n",
        "      r_2: r2_valor,\n",
        "      r_3: r3_valor,\n",
        "      e_1: e1_valor,\n",
        "      e_2: e2_valor,\n",
        "      e_3: e3_valor,\n",
        "      h_1: h1_valor,\n",
        "      h_2: h2_valor,\n",
        "      h_3: h3_valor\n",
        "  }\n",
        "\n",
        "  X_cg, Y_cg = calculateCG(Xcl_value, Xcb_value)\n",
        "\n",
        "  return Fmax.subs(general_values.update({\n",
        "      Xcl: Xcl_value,\n",
        "      Xcb: Xcb_value,\n",
        "      CG_x: X_cg\n",
        "  }))"
      ],
      "metadata": {
        "id": "6TPVPCau2h-3"
      },
      "execution_count": null,
      "outputs": []
    },
    {
      "cell_type": "markdown",
      "source": [
        "### Gráficos"
      ],
      "metadata": {
        "id": "2Thr9Fu_2h-4"
      }
    },
    {
      "cell_type": "code",
      "source": [
        "# variando OC\n",
        "Fmax_values = valuesThroughCallback(Xcl_values, Xcb_min, calculateFmax, Variable.Xcl)\n",
        "customPlot(Xcl_values, Fmax_values, 'Força Máxima vs Xcl (OC fixo)', xlabel = 'Xcl', ylabel = 'Força (N)',ylim = (Xcl_min + valorOB - 5, Xcl_max + valorOB + 5), xlim = (0, Fmax_values[sample_size - 1] + 100))\n",
        "\n",
        "# variando AB\n",
        "Fmax_values = valuesThroughCallback(Xcb_values, Xcl_min, calculateFmax, Variable.Xcb)\n",
        "customPlot(Xcl_values, Fmax_values, 'Força Máxima vs Xcb (AB fixo)', xlabel = 'Xcb', ylabel = 'Força (N)', ylim = (Xcl_min + valorOB - 5, Xcl_max + valorOB + 5), xlim = (0, Fmax_values[sample_size - 1] + 100))"
      ],
      "metadata": {
        "id": "czE3VHOV2h-4"
      },
      "execution_count": null,
      "outputs": []
    }
  ]
}